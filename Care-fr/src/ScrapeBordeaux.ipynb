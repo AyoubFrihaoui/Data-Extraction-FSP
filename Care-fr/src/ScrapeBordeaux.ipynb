{
 "cells": [
  {
   "cell_type": "markdown",
   "metadata": {},
   "source": [
    "## Bordeaux"
   ]
  },
  {
   "cell_type": "code",
   "execution_count": 1,
   "metadata": {},
   "outputs": [],
   "source": [
    "postal_code = \"33000\""
   ]
  },
  {
   "cell_type": "markdown",
   "metadata": {},
   "source": [
    "### ChildCare"
   ]
  },
  {
   "cell_type": "code",
   "execution_count": 2,
   "metadata": {},
   "outputs": [
    {
     "name": "stderr",
     "output_type": "stream",
     "text": [
      "2025-03-17 12:44:34,268 - INFO - Fetching URL: https://www.care.com/fr-fr/profiles?sort=bestMatch&order=asc&isRefinedSearch=true&verticalId=childCare&radius=50&geoRegionId=POSTCODE-FR-33000&geoRegionSearch=33000&max=50&offset=0&id=pagination\n",
      "2025-03-17 12:44:36,242 - DEBUG - Total results extracted: 16\n",
      "2025-03-17 12:44:36,243 - INFO - Total results found: 16\n",
      "2025-03-17 12:44:36,244 - DEBUG - Extracted IDs: ['9089684', '9077200', '8342643', '9041497', '8771148', '9043708', '8880452', '9115356', '8985072', '8974565', '8903204', '9056221', '9008019', '8912571', '8884736', '8879174']\n",
      "2025-03-17 12:44:36,245 - INFO - Page 1: Found 16 profile IDs.\n",
      "2025-03-17 12:44:36,245 - INFO - Scraped all expected profile IDs.\n",
      "2025-03-17 12:44:36,246 - INFO - Scraping completed in 1.98 seconds, scraped 16 profile IDs.\n",
      "2025-03-17 12:44:36,250 - INFO - Saved 16 profile IDs to ../data\\raw_data\\France\\33000\\search_of_childCare__\\profileIDs.json\n"
     ]
    }
   ],
   "source": [
    "from scrapers.profiles_ids_scraper import ProfileIDScraper\n",
    "from config import AUTH_TOKEN\n",
    "try:\n",
    "    # You can override default values here if needed.\n",
    "    scraper = ProfileIDScraper(\n",
    "        postal_code=postal_code,\n",
    "        care_type=\"childCare\",\n",
    "        results_per_page=50,\n",
    "        base_url=\"https://www.care.com/fr-fr/profiles\",\n",
    "        auth_token=AUTH_TOKEN  # Replace with token string if necessary.\n",
    "    )\n",
    "    scraper.scrape()\n",
    "except Exception as e:\n",
    "    print(f\"Error: {e}\")"
   ]
  },
  {
   "cell_type": "code",
   "execution_count": 3,
   "metadata": {},
   "outputs": [
    {
     "name": "stderr",
     "output_type": "stream",
     "text": [
      "2025-03-17 12:44:36,272 - INFO - Starting profile details scraping for 16 profile IDs.\n",
      "2025-03-17 12:44:36,273 - INFO - Fetching profile details for ID 9089684 from URL: https://www.care.com/fr-fr/api/v1/profiles-details-view/9089684\n",
      "2025-03-17 12:44:36,541 - INFO - Successfully fetched profile details for ID 9089684\n",
      "2025-03-17 12:44:36,545 - INFO - Saved profile data and metadata for ID 9089684 to ..\\data\\raw_data\\France\\33000\\Profiles_of_childCare__\n",
      "2025-03-17 12:44:37,598 - INFO - Fetching profile details for ID 9077200 from URL: https://www.care.com/fr-fr/api/v1/profiles-details-view/9077200\n",
      "2025-03-17 12:44:37,908 - INFO - Successfully fetched profile details for ID 9077200\n",
      "2025-03-17 12:44:37,909 - INFO - Saved profile data and metadata for ID 9077200 to ..\\data\\raw_data\\France\\33000\\Profiles_of_childCare__\n",
      "2025-03-17 12:44:39,042 - INFO - Fetching profile details for ID 8342643 from URL: https://www.care.com/fr-fr/api/v1/profiles-details-view/8342643\n",
      "2025-03-17 12:44:39,331 - INFO - Successfully fetched profile details for ID 8342643\n",
      "2025-03-17 12:44:39,335 - INFO - Saved profile data and metadata for ID 8342643 to ..\\data\\raw_data\\France\\33000\\Profiles_of_childCare__\n",
      "2025-03-17 12:44:40,165 - INFO - Fetching profile details for ID 9041497 from URL: https://www.care.com/fr-fr/api/v1/profiles-details-view/9041497\n",
      "2025-03-17 12:44:40,561 - INFO - Successfully fetched profile details for ID 9041497\n",
      "2025-03-17 12:44:40,565 - INFO - Saved profile data and metadata for ID 9041497 to ..\\data\\raw_data\\France\\33000\\Profiles_of_childCare__\n",
      "2025-03-17 12:44:41,719 - INFO - Fetching profile details for ID 8771148 from URL: https://www.care.com/fr-fr/api/v1/profiles-details-view/8771148\n",
      "2025-03-17 12:44:41,997 - INFO - Successfully fetched profile details for ID 8771148\n",
      "2025-03-17 12:44:42,001 - INFO - Saved profile data and metadata for ID 8771148 to ..\\data\\raw_data\\France\\33000\\Profiles_of_childCare__\n",
      "2025-03-17 12:44:42,936 - INFO - Fetching profile details for ID 9043708 from URL: https://www.care.com/fr-fr/api/v1/profiles-details-view/9043708\n",
      "2025-03-17 12:44:43,173 - INFO - Successfully fetched profile details for ID 9043708\n",
      "2025-03-17 12:44:43,176 - INFO - Saved profile data and metadata for ID 9043708 to ..\\data\\raw_data\\France\\33000\\Profiles_of_childCare__\n",
      "2025-03-17 12:44:44,101 - INFO - Fetching profile details for ID 8880452 from URL: https://www.care.com/fr-fr/api/v1/profiles-details-view/8880452\n",
      "2025-03-17 12:44:44,413 - INFO - Successfully fetched profile details for ID 8880452\n",
      "2025-03-17 12:44:44,417 - INFO - Saved profile data and metadata for ID 8880452 to ..\\data\\raw_data\\France\\33000\\Profiles_of_childCare__\n",
      "2025-03-17 12:44:45,617 - INFO - Fetching profile details for ID 9115356 from URL: https://www.care.com/fr-fr/api/v1/profiles-details-view/9115356\n",
      "2025-03-17 12:44:45,925 - INFO - Successfully fetched profile details for ID 9115356\n",
      "2025-03-17 12:44:45,929 - INFO - Saved profile data and metadata for ID 9115356 to ..\\data\\raw_data\\France\\33000\\Profiles_of_childCare__\n",
      "2025-03-17 12:44:46,903 - INFO - Fetching profile details for ID 8985072 from URL: https://www.care.com/fr-fr/api/v1/profiles-details-view/8985072\n",
      "2025-03-17 12:44:47,178 - INFO - Successfully fetched profile details for ID 8985072\n",
      "2025-03-17 12:44:47,180 - INFO - Saved profile data and metadata for ID 8985072 to ..\\data\\raw_data\\France\\33000\\Profiles_of_childCare__\n",
      "2025-03-17 12:44:48,338 - INFO - Fetching profile details for ID 8974565 from URL: https://www.care.com/fr-fr/api/v1/profiles-details-view/8974565\n",
      "2025-03-17 12:44:48,540 - INFO - Successfully fetched profile details for ID 8974565\n",
      "2025-03-17 12:44:48,543 - INFO - Saved profile data and metadata for ID 8974565 to ..\\data\\raw_data\\France\\33000\\Profiles_of_childCare__\n",
      "2025-03-17 12:44:49,623 - INFO - Fetching profile details for ID 8903204 from URL: https://www.care.com/fr-fr/api/v1/profiles-details-view/8903204\n",
      "2025-03-17 12:44:49,905 - INFO - Successfully fetched profile details for ID 8903204\n",
      "2025-03-17 12:44:49,910 - INFO - Saved profile data and metadata for ID 8903204 to ..\\data\\raw_data\\France\\33000\\Profiles_of_childCare__\n",
      "2025-03-17 12:44:51,094 - INFO - Fetching profile details for ID 9056221 from URL: https://www.care.com/fr-fr/api/v1/profiles-details-view/9056221\n",
      "2025-03-17 12:44:51,433 - INFO - Successfully fetched profile details for ID 9056221\n",
      "2025-03-17 12:44:51,438 - INFO - Saved profile data and metadata for ID 9056221 to ..\\data\\raw_data\\France\\33000\\Profiles_of_childCare__\n",
      "2025-03-17 12:44:52,556 - INFO - Fetching profile details for ID 9008019 from URL: https://www.care.com/fr-fr/api/v1/profiles-details-view/9008019\n",
      "2025-03-17 12:44:52,991 - INFO - Successfully fetched profile details for ID 9008019\n",
      "2025-03-17 12:44:52,995 - INFO - Saved profile data and metadata for ID 9008019 to ..\\data\\raw_data\\France\\33000\\Profiles_of_childCare__\n",
      "2025-03-17 12:44:53,825 - INFO - Fetching profile details for ID 8912571 from URL: https://www.care.com/fr-fr/api/v1/profiles-details-view/8912571\n",
      "2025-03-17 12:44:54,052 - INFO - Successfully fetched profile details for ID 8912571\n",
      "2025-03-17 12:44:54,059 - INFO - Saved profile data and metadata for ID 8912571 to ..\\data\\raw_data\\France\\33000\\Profiles_of_childCare__\n",
      "2025-03-17 12:44:54,985 - INFO - Fetching profile details for ID 8884736 from URL: https://www.care.com/fr-fr/api/v1/profiles-details-view/8884736\n",
      "2025-03-17 12:44:55,242 - INFO - Successfully fetched profile details for ID 8884736\n",
      "2025-03-17 12:44:55,246 - INFO - Saved profile data and metadata for ID 8884736 to ..\\data\\raw_data\\France\\33000\\Profiles_of_childCare__\n",
      "2025-03-17 12:44:56,340 - INFO - Fetching profile details for ID 8879174 from URL: https://www.care.com/fr-fr/api/v1/profiles-details-view/8879174\n",
      "2025-03-17 12:44:56,702 - INFO - Successfully fetched profile details for ID 8879174\n",
      "2025-03-17 12:44:56,709 - INFO - Saved profile data and metadata for ID 8879174 to ..\\data\\raw_data\\France\\33000\\Profiles_of_childCare__\n",
      "2025-03-17 12:44:57,875 - INFO - Completed scraping all profile details.\n"
     ]
    }
   ],
   "source": [
    "from scrapers.profile_details_scraper import ProfileDetailsScraper\n",
    "from config import AUTH_TOKEN\n",
    "import os\n",
    "try:\n",
    "    # Define the input file path (adjust as needed).\n",
    "    input_file_path = os.path.join(\"..\", \"data\", \"raw_data\", \"France\", postal_code, \"search_of_childCare__\", \"profileIDs.json\")\n",
    "    scraper = ProfileDetailsScraper(input_file=input_file_path, auth_token=AUTH_TOKEN)\n",
    "    scraper.scrape_profiles()\n",
    "except Exception as e:\n",
    "    print(f\"Error: {e}\")"
   ]
  },
  {
   "cell_type": "markdown",
   "metadata": {},
   "source": [
    "### ChildCare - babysitter"
   ]
  },
  {
   "cell_type": "code",
   "execution_count": 4,
   "metadata": {},
   "outputs": [
    {
     "name": "stderr",
     "output_type": "stream",
     "text": [
      "2025-03-17 12:44:57,889 - INFO - Fetching URL: https://www.care.com/fr-fr/profiles?sort=bestMatch&order=asc&isRefinedSearch=true&verticalId=childCare&radius=50&geoRegionId=POSTCODE-FR-33000&geoRegionSearch=33000&max=50&offset=0&id=pagination&subVerticalIdList=babysitter\n",
      "2025-03-17 12:44:59,317 - WARNING - Total results not found in HTML.\n",
      "2025-03-17 12:44:59,317 - WARNING - Proceeding without total results info.\n",
      "2025-03-17 12:44:59,318 - DEBUG - Extracted IDs: ['9089684', '9077200', '8342643', '9041497', '8771148', '9115356', '8985072', '8974565', '8903204', '9056221', '8912571']\n",
      "2025-03-17 12:44:59,318 - INFO - Page 1: Found 11 profile IDs.\n",
      "2025-03-17 12:45:00,272 - INFO - Fetching URL: https://www.care.com/fr-fr/profiles?sort=bestMatch&order=asc&isRefinedSearch=true&verticalId=childCare&radius=50&geoRegionId=POSTCODE-FR-33000&geoRegionSearch=33000&max=50&offset=50&id=pagination&subVerticalIdList=babysitter\n",
      "2025-03-17 12:45:00,847 - DEBUG - Extracted IDs: []\n",
      "2025-03-17 12:45:00,848 - INFO - No profile IDs found on this page. Ending pagination.\n",
      "2025-03-17 12:45:00,848 - INFO - Scraping completed in 2.96 seconds, scraped 11 profile IDs.\n",
      "2025-03-17 12:45:00,850 - INFO - Saved 11 profile IDs to ../data\\raw_data\\France\\33000\\search_of_childCare__babysitter\\profileIDs.json\n"
     ]
    }
   ],
   "source": [
    "from scrapers.profiles_ids_scraper import ProfileIDScraper\n",
    "from config import AUTH_TOKEN\n",
    "try:\n",
    "    # You can override default values here if needed.\n",
    "    scraper = ProfileIDScraper(\n",
    "        postal_code=postal_code,\n",
    "        care_type=\"childCare\",\n",
    "        subVerticalIdList=\"babysitter\",\n",
    "        results_per_page=50,\n",
    "        base_url=\"https://www.care.com/fr-fr/profiles\",\n",
    "        auth_token=AUTH_TOKEN  # Replace with token string if necessary.\n",
    "    )\n",
    "    scraper.scrape()\n",
    "except Exception as e:\n",
    "    print(f\"Error: {e}\")"
   ]
  },
  {
   "cell_type": "code",
   "execution_count": 5,
   "metadata": {},
   "outputs": [
    {
     "name": "stderr",
     "output_type": "stream",
     "text": [
      "2025-03-17 12:45:00,871 - INFO - Starting profile details scraping for 11 profile IDs.\n",
      "2025-03-17 12:45:00,871 - INFO - Fetching profile details for ID 9089684 from URL: https://www.care.com/fr-fr/api/v1/profiles-details-view/9089684\n",
      "2025-03-17 12:45:01,147 - INFO - Successfully fetched profile details for ID 9089684\n",
      "2025-03-17 12:45:01,150 - INFO - Saved profile data and metadata for ID 9089684 to ..\\data\\raw_data\\France\\33000\\Profiles_of_childCare__babysitter\n",
      "2025-03-17 12:45:02,172 - INFO - Fetching profile details for ID 9077200 from URL: https://www.care.com/fr-fr/api/v1/profiles-details-view/9077200\n",
      "2025-03-17 12:45:02,493 - INFO - Successfully fetched profile details for ID 9077200\n",
      "2025-03-17 12:45:02,497 - INFO - Saved profile data and metadata for ID 9077200 to ..\\data\\raw_data\\France\\33000\\Profiles_of_childCare__babysitter\n",
      "2025-03-17 12:45:03,704 - INFO - Fetching profile details for ID 8342643 from URL: https://www.care.com/fr-fr/api/v1/profiles-details-view/8342643\n",
      "2025-03-17 12:45:03,933 - INFO - Successfully fetched profile details for ID 8342643\n",
      "2025-03-17 12:45:03,937 - INFO - Saved profile data and metadata for ID 8342643 to ..\\data\\raw_data\\France\\33000\\Profiles_of_childCare__babysitter\n",
      "2025-03-17 12:45:05,046 - INFO - Fetching profile details for ID 9041497 from URL: https://www.care.com/fr-fr/api/v1/profiles-details-view/9041497\n",
      "2025-03-17 12:45:05,288 - INFO - Successfully fetched profile details for ID 9041497\n",
      "2025-03-17 12:45:05,291 - INFO - Saved profile data and metadata for ID 9041497 to ..\\data\\raw_data\\France\\33000\\Profiles_of_childCare__babysitter\n",
      "2025-03-17 12:45:06,492 - INFO - Fetching profile details for ID 8771148 from URL: https://www.care.com/fr-fr/api/v1/profiles-details-view/8771148\n",
      "2025-03-17 12:45:06,714 - INFO - Successfully fetched profile details for ID 8771148\n",
      "2025-03-17 12:45:06,717 - INFO - Saved profile data and metadata for ID 8771148 to ..\\data\\raw_data\\France\\33000\\Profiles_of_childCare__babysitter\n",
      "2025-03-17 12:45:07,880 - INFO - Fetching profile details for ID 9115356 from URL: https://www.care.com/fr-fr/api/v1/profiles-details-view/9115356\n",
      "2025-03-17 12:45:08,117 - INFO - Successfully fetched profile details for ID 9115356\n",
      "2025-03-17 12:45:08,120 - INFO - Saved profile data and metadata for ID 9115356 to ..\\data\\raw_data\\France\\33000\\Profiles_of_childCare__babysitter\n",
      "2025-03-17 12:45:08,963 - INFO - Fetching profile details for ID 8985072 from URL: https://www.care.com/fr-fr/api/v1/profiles-details-view/8985072\n",
      "2025-03-17 12:45:09,198 - INFO - Successfully fetched profile details for ID 8985072\n",
      "2025-03-17 12:45:09,202 - INFO - Saved profile data and metadata for ID 8985072 to ..\\data\\raw_data\\France\\33000\\Profiles_of_childCare__babysitter\n",
      "2025-03-17 12:45:10,353 - INFO - Fetching profile details for ID 8974565 from URL: https://www.care.com/fr-fr/api/v1/profiles-details-view/8974565\n",
      "2025-03-17 12:45:10,526 - INFO - Successfully fetched profile details for ID 8974565\n",
      "2025-03-17 12:45:10,529 - INFO - Saved profile data and metadata for ID 8974565 to ..\\data\\raw_data\\France\\33000\\Profiles_of_childCare__babysitter\n",
      "2025-03-17 12:45:11,393 - INFO - Fetching profile details for ID 8903204 from URL: https://www.care.com/fr-fr/api/v1/profiles-details-view/8903204\n",
      "2025-03-17 12:45:11,550 - INFO - Successfully fetched profile details for ID 8903204\n",
      "2025-03-17 12:45:11,552 - INFO - Saved profile data and metadata for ID 8903204 to ..\\data\\raw_data\\France\\33000\\Profiles_of_childCare__babysitter\n",
      "2025-03-17 12:45:12,669 - INFO - Fetching profile details for ID 9056221 from URL: https://www.care.com/fr-fr/api/v1/profiles-details-view/9056221\n",
      "2025-03-17 12:45:12,940 - INFO - Successfully fetched profile details for ID 9056221\n",
      "2025-03-17 12:45:12,944 - INFO - Saved profile data and metadata for ID 9056221 to ..\\data\\raw_data\\France\\33000\\Profiles_of_childCare__babysitter\n",
      "2025-03-17 12:45:13,817 - INFO - Fetching profile details for ID 8912571 from URL: https://www.care.com/fr-fr/api/v1/profiles-details-view/8912571\n",
      "2025-03-17 12:45:14,039 - INFO - Successfully fetched profile details for ID 8912571\n",
      "2025-03-17 12:45:14,044 - INFO - Saved profile data and metadata for ID 8912571 to ..\\data\\raw_data\\France\\33000\\Profiles_of_childCare__babysitter\n",
      "2025-03-17 12:45:14,960 - INFO - Completed scraping all profile details.\n"
     ]
    }
   ],
   "source": [
    "from scrapers.profile_details_scraper import ProfileDetailsScraper\n",
    "from config import AUTH_TOKEN\n",
    "import os\n",
    "try:\n",
    "    # Define the input file path (adjust as needed).\n",
    "    input_file_path = os.path.join(\"..\", \"data\", \"raw_data\", \"France\", postal_code, \"search_of_childCare__babysitter\", \"profileIDs.json\")\n",
    "    scraper = ProfileDetailsScraper(input_file=input_file_path, auth_token=AUTH_TOKEN)\n",
    "    scraper.scrape_profiles()\n",
    "except Exception as e:\n",
    "    print(f\"Error: {e}\")"
   ]
  },
  {
   "cell_type": "markdown",
   "metadata": {},
   "source": [
    "### ChildCare - nanny"
   ]
  },
  {
   "cell_type": "code",
   "execution_count": 6,
   "metadata": {},
   "outputs": [
    {
     "name": "stderr",
     "output_type": "stream",
     "text": [
      "2025-03-17 12:45:14,970 - INFO - Fetching URL: https://www.care.com/fr-fr/profiles?sort=bestMatch&order=asc&isRefinedSearch=true&verticalId=childCare&radius=50&geoRegionId=POSTCODE-FR-33000&geoRegionSearch=33000&max=50&offset=0&id=pagination&subVerticalIdList=nanny\n",
      "2025-03-17 12:45:16,017 - WARNING - Total results not found in HTML.\n",
      "2025-03-17 12:45:16,017 - WARNING - Proceeding without total results info.\n",
      "2025-03-17 12:45:16,018 - DEBUG - Extracted IDs: ['9089684', '8771148', '8903204', '9008019']\n",
      "2025-03-17 12:45:16,018 - INFO - Page 1: Found 4 profile IDs.\n",
      "2025-03-17 12:45:16,993 - INFO - Fetching URL: https://www.care.com/fr-fr/profiles?sort=bestMatch&order=asc&isRefinedSearch=true&verticalId=childCare&radius=50&geoRegionId=POSTCODE-FR-33000&geoRegionSearch=33000&max=50&offset=50&id=pagination&subVerticalIdList=nanny\n",
      "2025-03-17 12:45:17,701 - DEBUG - Extracted IDs: []\n",
      "2025-03-17 12:45:17,702 - INFO - No profile IDs found on this page. Ending pagination.\n",
      "2025-03-17 12:45:17,702 - INFO - Scraping completed in 2.73 seconds, scraped 4 profile IDs.\n",
      "2025-03-17 12:45:17,706 - INFO - Saved 4 profile IDs to ../data\\raw_data\\France\\33000\\search_of_childCare__nanny\\profileIDs.json\n"
     ]
    }
   ],
   "source": [
    "from scrapers.profiles_ids_scraper import ProfileIDScraper\n",
    "from config import AUTH_TOKEN\n",
    "try:\n",
    "    # You can override default values here if needed.\n",
    "    scraper = ProfileIDScraper(\n",
    "        postal_code=postal_code,\n",
    "        care_type=\"childCare\",\n",
    "        subVerticalIdList=\"nanny\",\n",
    "        results_per_page=50,\n",
    "        base_url=\"https://www.care.com/fr-fr/profiles\",\n",
    "        auth_token=AUTH_TOKEN  # Replace with token string if necessary.\n",
    "    )\n",
    "    scraper.scrape()\n",
    "except Exception as e:\n",
    "    print(f\"Error: {e}\")"
   ]
  },
  {
   "cell_type": "code",
   "execution_count": 7,
   "metadata": {},
   "outputs": [
    {
     "name": "stderr",
     "output_type": "stream",
     "text": [
      "2025-03-17 12:45:17,724 - INFO - Starting profile details scraping for 4 profile IDs.\n",
      "2025-03-17 12:45:17,725 - INFO - Fetching profile details for ID 9089684 from URL: https://www.care.com/fr-fr/api/v1/profiles-details-view/9089684\n",
      "2025-03-17 12:45:18,021 - INFO - Successfully fetched profile details for ID 9089684\n",
      "2025-03-17 12:45:18,025 - INFO - Saved profile data and metadata for ID 9089684 to ..\\data\\raw_data\\France\\33000\\Profiles_of_childCare__nanny\n",
      "2025-03-17 12:45:19,144 - INFO - Fetching profile details for ID 8771148 from URL: https://www.care.com/fr-fr/api/v1/profiles-details-view/8771148\n",
      "2025-03-17 12:45:19,367 - INFO - Successfully fetched profile details for ID 8771148\n",
      "2025-03-17 12:45:19,371 - INFO - Saved profile data and metadata for ID 8771148 to ..\\data\\raw_data\\France\\33000\\Profiles_of_childCare__nanny\n",
      "2025-03-17 12:45:20,423 - INFO - Fetching profile details for ID 8903204 from URL: https://www.care.com/fr-fr/api/v1/profiles-details-view/8903204\n",
      "2025-03-17 12:45:20,623 - INFO - Successfully fetched profile details for ID 8903204\n",
      "2025-03-17 12:45:20,627 - INFO - Saved profile data and metadata for ID 8903204 to ..\\data\\raw_data\\France\\33000\\Profiles_of_childCare__nanny\n",
      "2025-03-17 12:45:21,462 - INFO - Fetching profile details for ID 9008019 from URL: https://www.care.com/fr-fr/api/v1/profiles-details-view/9008019\n",
      "2025-03-17 12:45:21,669 - INFO - Successfully fetched profile details for ID 9008019\n",
      "2025-03-17 12:45:21,673 - INFO - Saved profile data and metadata for ID 9008019 to ..\\data\\raw_data\\France\\33000\\Profiles_of_childCare__nanny\n",
      "2025-03-17 12:45:22,706 - INFO - Completed scraping all profile details.\n"
     ]
    }
   ],
   "source": [
    "from scrapers.profile_details_scraper import ProfileDetailsScraper\n",
    "from config import AUTH_TOKEN\n",
    "import os\n",
    "try:\n",
    "    # Define the input file path (adjust as needed).\n",
    "    input_file_path = os.path.join(\"..\", \"data\", \"raw_data\", \"France\", postal_code, \"search_of_childCare__nanny\", \"profileIDs.json\")\n",
    "    scraper = ProfileDetailsScraper(input_file=input_file_path, auth_token=AUTH_TOKEN)\n",
    "    scraper.scrape_profiles()\n",
    "except Exception as e:\n",
    "    print(f\"Error: {e}\")"
   ]
  },
  {
   "cell_type": "markdown",
   "metadata": {},
   "source": [
    "### ChildCare - childminder"
   ]
  },
  {
   "cell_type": "code",
   "execution_count": 8,
   "metadata": {},
   "outputs": [
    {
     "name": "stderr",
     "output_type": "stream",
     "text": [
      "2025-03-17 12:45:22,718 - INFO - Fetching URL: https://www.care.com/fr-fr/profiles?sort=bestMatch&order=asc&isRefinedSearch=true&verticalId=childCare&radius=50&geoRegionId=POSTCODE-FR-33000&geoRegionSearch=33000&max=50&offset=0&id=pagination&subVerticalIdList=childminder\n",
      "2025-03-17 12:45:24,211 - WARNING - Total results not found in HTML.\n",
      "2025-03-17 12:45:24,212 - WARNING - Proceeding without total results info.\n",
      "2025-03-17 12:45:24,212 - DEBUG - Extracted IDs: ['9089684', '9077200', '9041497', '8771148', '9043708', '8880452', '9115356', '8985072', '8974565', '8903204', '8912571', '8884736', '8879174']\n",
      "2025-03-17 12:45:24,213 - INFO - Page 1: Found 13 profile IDs.\n",
      "2025-03-17 12:45:25,220 - INFO - Fetching URL: https://www.care.com/fr-fr/profiles?sort=bestMatch&order=asc&isRefinedSearch=true&verticalId=childCare&radius=50&geoRegionId=POSTCODE-FR-33000&geoRegionSearch=33000&max=50&offset=50&id=pagination&subVerticalIdList=childminder\n",
      "2025-03-17 12:45:25,815 - DEBUG - Extracted IDs: []\n",
      "2025-03-17 12:45:25,816 - INFO - No profile IDs found on this page. Ending pagination.\n",
      "2025-03-17 12:45:25,816 - INFO - Scraping completed in 3.10 seconds, scraped 13 profile IDs.\n",
      "2025-03-17 12:45:25,820 - INFO - Saved 13 profile IDs to ../data\\raw_data\\France\\33000\\search_of_childCare__childminder\\profileIDs.json\n"
     ]
    }
   ],
   "source": [
    "from scrapers.profiles_ids_scraper import ProfileIDScraper\n",
    "from config import AUTH_TOKEN\n",
    "try:\n",
    "    # You can override default values here if needed.\n",
    "    scraper = ProfileIDScraper(\n",
    "        postal_code=postal_code,\n",
    "        care_type=\"childCare\",\n",
    "        subVerticalIdList=\"childminder\",\n",
    "        results_per_page=50,\n",
    "        base_url=\"https://www.care.com/fr-fr/profiles\",\n",
    "        auth_token=AUTH_TOKEN  # Replace with token string if necessary.\n",
    "    )\n",
    "    scraper.scrape()\n",
    "except Exception as e:\n",
    "    print(f\"Error: {e}\")"
   ]
  },
  {
   "cell_type": "code",
   "execution_count": 9,
   "metadata": {},
   "outputs": [
    {
     "name": "stderr",
     "output_type": "stream",
     "text": [
      "2025-03-17 12:45:25,840 - INFO - Starting profile details scraping for 13 profile IDs.\n",
      "2025-03-17 12:45:25,841 - INFO - Fetching profile details for ID 9089684 from URL: https://www.care.com/fr-fr/api/v1/profiles-details-view/9089684\n",
      "2025-03-17 12:45:26,074 - INFO - Successfully fetched profile details for ID 9089684\n",
      "2025-03-17 12:45:26,077 - INFO - Saved profile data and metadata for ID 9089684 to ..\\data\\raw_data\\France\\33000\\Profiles_of_childCare__childminder\n",
      "2025-03-17 12:45:27,113 - INFO - Fetching profile details for ID 9077200 from URL: https://www.care.com/fr-fr/api/v1/profiles-details-view/9077200\n",
      "2025-03-17 12:45:27,459 - INFO - Successfully fetched profile details for ID 9077200\n",
      "2025-03-17 12:45:27,462 - INFO - Saved profile data and metadata for ID 9077200 to ..\\data\\raw_data\\France\\33000\\Profiles_of_childCare__childminder\n",
      "2025-03-17 12:45:28,578 - INFO - Fetching profile details for ID 9041497 from URL: https://www.care.com/fr-fr/api/v1/profiles-details-view/9041497\n",
      "2025-03-17 12:45:28,819 - INFO - Successfully fetched profile details for ID 9041497\n",
      "2025-03-17 12:45:28,825 - INFO - Saved profile data and metadata for ID 9041497 to ..\\data\\raw_data\\France\\33000\\Profiles_of_childCare__childminder\n",
      "2025-03-17 12:45:29,862 - INFO - Fetching profile details for ID 8771148 from URL: https://www.care.com/fr-fr/api/v1/profiles-details-view/8771148\n",
      "2025-03-17 12:45:30,057 - INFO - Successfully fetched profile details for ID 8771148\n",
      "2025-03-17 12:45:30,060 - INFO - Saved profile data and metadata for ID 8771148 to ..\\data\\raw_data\\France\\33000\\Profiles_of_childCare__childminder\n",
      "2025-03-17 12:45:31,007 - INFO - Fetching profile details for ID 9043708 from URL: https://www.care.com/fr-fr/api/v1/profiles-details-view/9043708\n",
      "2025-03-17 12:45:31,314 - INFO - Successfully fetched profile details for ID 9043708\n",
      "2025-03-17 12:45:31,319 - INFO - Saved profile data and metadata for ID 9043708 to ..\\data\\raw_data\\France\\33000\\Profiles_of_childCare__childminder\n",
      "2025-03-17 12:45:32,501 - INFO - Fetching profile details for ID 8880452 from URL: https://www.care.com/fr-fr/api/v1/profiles-details-view/8880452\n",
      "2025-03-17 12:45:33,092 - INFO - Successfully fetched profile details for ID 8880452\n",
      "2025-03-17 12:45:33,096 - INFO - Saved profile data and metadata for ID 8880452 to ..\\data\\raw_data\\France\\33000\\Profiles_of_childCare__childminder\n",
      "2025-03-17 12:45:34,124 - INFO - Fetching profile details for ID 9115356 from URL: https://www.care.com/fr-fr/api/v1/profiles-details-view/9115356\n",
      "2025-03-17 12:45:34,461 - INFO - Successfully fetched profile details for ID 9115356\n",
      "2025-03-17 12:45:34,465 - INFO - Saved profile data and metadata for ID 9115356 to ..\\data\\raw_data\\France\\33000\\Profiles_of_childCare__childminder\n",
      "2025-03-17 12:45:35,372 - INFO - Fetching profile details for ID 8985072 from URL: https://www.care.com/fr-fr/api/v1/profiles-details-view/8985072\n",
      "2025-03-17 12:45:35,691 - INFO - Successfully fetched profile details for ID 8985072\n",
      "2025-03-17 12:45:35,694 - INFO - Saved profile data and metadata for ID 8985072 to ..\\data\\raw_data\\France\\33000\\Profiles_of_childCare__childminder\n",
      "2025-03-17 12:45:36,796 - INFO - Fetching profile details for ID 8974565 from URL: https://www.care.com/fr-fr/api/v1/profiles-details-view/8974565\n",
      "2025-03-17 12:45:37,016 - INFO - Successfully fetched profile details for ID 8974565\n",
      "2025-03-17 12:45:37,019 - INFO - Saved profile data and metadata for ID 8974565 to ..\\data\\raw_data\\France\\33000\\Profiles_of_childCare__childminder\n",
      "2025-03-17 12:45:38,034 - INFO - Fetching profile details for ID 8903204 from URL: https://www.care.com/fr-fr/api/v1/profiles-details-view/8903204\n",
      "2025-03-17 12:45:38,201 - INFO - Successfully fetched profile details for ID 8903204\n",
      "2025-03-17 12:45:38,206 - INFO - Saved profile data and metadata for ID 8903204 to ..\\data\\raw_data\\France\\33000\\Profiles_of_childCare__childminder\n",
      "2025-03-17 12:45:39,375 - INFO - Fetching profile details for ID 8912571 from URL: https://www.care.com/fr-fr/api/v1/profiles-details-view/8912571\n",
      "2025-03-17 12:45:39,832 - INFO - Successfully fetched profile details for ID 8912571\n",
      "2025-03-17 12:45:39,837 - INFO - Saved profile data and metadata for ID 8912571 to ..\\data\\raw_data\\France\\33000\\Profiles_of_childCare__childminder\n",
      "2025-03-17 12:45:40,751 - INFO - Fetching profile details for ID 8884736 from URL: https://www.care.com/fr-fr/api/v1/profiles-details-view/8884736\n",
      "2025-03-17 12:45:41,023 - INFO - Successfully fetched profile details for ID 8884736\n",
      "2025-03-17 12:45:41,027 - INFO - Saved profile data and metadata for ID 8884736 to ..\\data\\raw_data\\France\\33000\\Profiles_of_childCare__childminder\n",
      "2025-03-17 12:45:41,882 - INFO - Fetching profile details for ID 8879174 from URL: https://www.care.com/fr-fr/api/v1/profiles-details-view/8879174\n",
      "2025-03-17 12:45:42,056 - INFO - Successfully fetched profile details for ID 8879174\n",
      "2025-03-17 12:45:42,060 - INFO - Saved profile data and metadata for ID 8879174 to ..\\data\\raw_data\\France\\33000\\Profiles_of_childCare__childminder\n",
      "2025-03-17 12:45:43,083 - INFO - Completed scraping all profile details.\n"
     ]
    }
   ],
   "source": [
    "from scrapers.profile_details_scraper import ProfileDetailsScraper\n",
    "from config import AUTH_TOKEN\n",
    "import os\n",
    "try:\n",
    "    # Define the input file path (adjust as needed).\n",
    "    input_file_path = os.path.join(\"..\", \"data\", \"raw_data\", \"France\", postal_code, \"search_of_childCare__childminder\", \"profileIDs.json\")\n",
    "    scraper = ProfileDetailsScraper(input_file=input_file_path, auth_token=AUTH_TOKEN)\n",
    "    scraper.scrape_profiles()\n",
    "except Exception as e:\n",
    "    print(f\"Error: {e}\")"
   ]
  },
  {
   "cell_type": "markdown",
   "metadata": {},
   "source": [
    "### SeniorCare"
   ]
  },
  {
   "cell_type": "code",
   "execution_count": 10,
   "metadata": {},
   "outputs": [
    {
     "name": "stderr",
     "output_type": "stream",
     "text": [
      "2025-03-17 12:45:43,098 - INFO - Fetching URL: https://www.care.com/fr-fr/profiles?sort=bestMatch&order=asc&isRefinedSearch=true&verticalId=seniorCare&radius=50&geoRegionId=POSTCODE-FR-33000&geoRegionSearch=33000&max=50&offset=0&id=pagination\n",
      "2025-03-17 12:45:45,087 - WARNING - Total results not found in HTML.\n",
      "2025-03-17 12:45:45,088 - WARNING - Proceeding without total results info.\n",
      "2025-03-17 12:45:45,089 - DEBUG - Extracted IDs: ['8771168', '9041521', '8996416', '8985048']\n",
      "2025-03-17 12:45:45,091 - INFO - Page 1: Found 4 profile IDs.\n",
      "2025-03-17 12:45:46,085 - INFO - Fetching URL: https://www.care.com/fr-fr/profiles?sort=bestMatch&order=asc&isRefinedSearch=true&verticalId=seniorCare&radius=50&geoRegionId=POSTCODE-FR-33000&geoRegionSearch=33000&max=50&offset=50&id=pagination\n",
      "2025-03-17 12:45:46,589 - DEBUG - Extracted IDs: []\n",
      "2025-03-17 12:45:46,590 - INFO - No profile IDs found on this page. Ending pagination.\n",
      "2025-03-17 12:45:46,591 - INFO - Scraping completed in 3.49 seconds, scraped 4 profile IDs.\n",
      "2025-03-17 12:45:46,594 - INFO - Saved 4 profile IDs to ../data\\raw_data\\France\\33000\\search_of_seniorCare__\\profileIDs.json\n"
     ]
    }
   ],
   "source": [
    "from scrapers.profiles_ids_scraper import ProfileIDScraper\n",
    "from config import AUTH_TOKEN\n",
    "try:\n",
    "    # You can override default values here if needed.\n",
    "    scraper = ProfileIDScraper(\n",
    "        postal_code=postal_code,\n",
    "        care_type=\"seniorCare\",\n",
    "        results_per_page=50,\n",
    "        base_url=\"https://www.care.com/fr-fr/profiles\",\n",
    "        auth_token=AUTH_TOKEN  # Replace with token string if necessary.\n",
    "    )\n",
    "    scraper.scrape()\n",
    "except Exception as e:\n",
    "    print(f\"Error: {e}\")"
   ]
  },
  {
   "cell_type": "code",
   "execution_count": 11,
   "metadata": {},
   "outputs": [
    {
     "name": "stderr",
     "output_type": "stream",
     "text": [
      "2025-03-17 12:45:46,617 - INFO - Starting profile details scraping for 4 profile IDs.\n",
      "2025-03-17 12:45:46,617 - INFO - Fetching profile details for ID 8771168 from URL: https://www.care.com/fr-fr/api/v1/profiles-details-view/8771168\n"
     ]
    },
    {
     "name": "stderr",
     "output_type": "stream",
     "text": [
      "2025-03-17 12:45:46,927 - INFO - Successfully fetched profile details for ID 8771168\n",
      "2025-03-17 12:45:46,931 - INFO - Saved profile data and metadata for ID 8771168 to ..\\data\\raw_data\\France\\33000\\Profiles_of_seniorCare__\n",
      "2025-03-17 12:45:47,918 - INFO - Fetching profile details for ID 9041521 from URL: https://www.care.com/fr-fr/api/v1/profiles-details-view/9041521\n",
      "2025-03-17 12:45:48,552 - INFO - Successfully fetched profile details for ID 9041521\n",
      "2025-03-17 12:45:48,556 - INFO - Saved profile data and metadata for ID 9041521 to ..\\data\\raw_data\\France\\33000\\Profiles_of_seniorCare__\n",
      "2025-03-17 12:45:49,641 - INFO - Fetching profile details for ID 8996416 from URL: https://www.care.com/fr-fr/api/v1/profiles-details-view/8996416\n",
      "2025-03-17 12:45:49,845 - INFO - Successfully fetched profile details for ID 8996416\n",
      "2025-03-17 12:45:49,849 - INFO - Saved profile data and metadata for ID 8996416 to ..\\data\\raw_data\\France\\33000\\Profiles_of_seniorCare__\n",
      "2025-03-17 12:45:50,713 - INFO - Fetching profile details for ID 8985048 from URL: https://www.care.com/fr-fr/api/v1/profiles-details-view/8985048\n",
      "2025-03-17 12:45:51,060 - INFO - Successfully fetched profile details for ID 8985048\n",
      "2025-03-17 12:45:51,063 - INFO - Saved profile data and metadata for ID 8985048 to ..\\data\\raw_data\\France\\33000\\Profiles_of_seniorCare__\n",
      "2025-03-17 12:45:52,219 - INFO - Completed scraping all profile details.\n"
     ]
    }
   ],
   "source": [
    "from scrapers.profile_details_scraper import ProfileDetailsScraper\n",
    "from config import AUTH_TOKEN\n",
    "import os\n",
    "try:\n",
    "    # Define the input file path (adjust as needed).\n",
    "    input_file_path = os.path.join(\"..\", \"data\", \"raw_data\", \"France\", postal_code, \"search_of_seniorCare__\", \"profileIDs.json\")\n",
    "    scraper = ProfileDetailsScraper(input_file=input_file_path, auth_token=AUTH_TOKEN)\n",
    "    scraper.scrape_profiles()\n",
    "except Exception as e:\n",
    "    print(f\"Error: {e}\")"
   ]
  }
 ],
 "metadata": {
  "kernelspec": {
   "display_name": "Python 3",
   "language": "python",
   "name": "python3"
  },
  "language_info": {
   "codemirror_mode": {
    "name": "ipython",
    "version": 3
   },
   "file_extension": ".py",
   "mimetype": "text/x-python",
   "name": "python",
   "nbconvert_exporter": "python",
   "pygments_lexer": "ipython3",
   "version": "3.11.4"
  }
 },
 "nbformat": 4,
 "nbformat_minor": 2
}
