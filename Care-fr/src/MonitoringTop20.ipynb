{
 "cells": [
  {
   "cell_type": "code",
   "execution_count": null,
   "metadata": {},
   "outputs": [],
   "source": [
    "from monitors.top_caregivers_monitor import TopCaregiversMonitor\n",
    "from config import AUTH_TOKEN\n",
    "try:\n",
    "    # Example usage: monitor top 20 caregivers every 2 hours for 1 day.\n",
    "    monitor = TopCaregiversMonitor(\n",
    "         postal_code=\"75001\",\n",
    "         care_type=\"childCare\",\n",
    "         interval_hours=0.001,\n",
    "         total_days=1,\n",
    "         auth_token=None  # Replace with token string if authentication is needed.\n",
    "    )\n",
    "    monitor.run_monitor()\n",
    "\n",
    "except Exception as e:\n",
    "    print(f\"Error: {e}\")"
   ]
  }
 ],
 "metadata": {
  "kernelspec": {
   "display_name": "Python 3",
   "language": "python",
   "name": "python3"
  },
  "language_info": {
   "name": "python",
   "version": "3.11.4"
  }
 },
 "nbformat": 4,
 "nbformat_minor": 2
}
