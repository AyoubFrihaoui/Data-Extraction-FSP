{
 "cells": [
  {
   "cell_type": "code",
   "execution_count": 1,
   "metadata": {},
   "outputs": [
    {
     "name": "stderr",
     "output_type": "stream",
     "text": [
      "2025-03-17 15:00:49,611 - INFO - Starting monitoring for 1 days, scraping every 2 hours for care types: ['childCare', 'seniorCare']\n",
      "2025-03-17 15:00:49,612 - INFO - Iteration 1: Starting scrape cycle for all care types.\n",
      "2025-03-17 15:00:49,613 - INFO - Fetching top 20 caregivers for care type 'childCare' from URL: https://www.care.com/fr-fr/profiles?sort=bestMatch&order=asc&isRefinedSearch=true&verticalId=childCare&radius=30&geoRegionId=POSTCODE-FR-75001&geoRegionSearch=75001+Paris&max=20&offset=0&id=pagination\n",
      "2025-03-17 15:00:52,376 - INFO - Extracted 20 profile IDs for care type 'childCare'.\n",
      "2025-03-17 15:00:52,380 - INFO - Saved top 20 results and metadata for care type 'childCare' at timestamp 20250317T140052Z.\n",
      "2025-03-17 15:00:52,381 - INFO - Fetching top 20 caregivers for care type 'seniorCare' from URL: https://www.care.com/fr-fr/profiles?sort=bestMatch&order=asc&isRefinedSearch=true&verticalId=seniorCare&radius=30&geoRegionId=POSTCODE-FR-75001&geoRegionSearch=75001+Paris&max=20&offset=0&id=pagination\n",
      "2025-03-17 15:00:55,093 - INFO - Extracted 20 profile IDs for care type 'seniorCare'.\n",
      "2025-03-17 15:00:55,098 - INFO - Saved top 20 results and metadata for care type 'seniorCare' at timestamp 20250317T140055Z.\n",
      "2025-03-17 15:00:55,099 - INFO - Iteration 1: Completed scrape cycle. Sleeping for 2 hours.\n",
      "2025-03-17 21:06:50,493 - INFO - Iteration 2: Starting scrape cycle for all care types.\n",
      "2025-03-17 21:06:51,023 - INFO - Fetching top 20 caregivers for care type 'childCare' from URL: https://www.care.com/fr-fr/profiles?sort=bestMatch&order=asc&isRefinedSearch=true&verticalId=childCare&radius=30&geoRegionId=POSTCODE-FR-75001&geoRegionSearch=75001+Paris&max=20&offset=0&id=pagination\n",
      "2025-03-17 21:06:53,887 - INFO - Extracted 0 profile IDs for care type 'childCare'.\n",
      "2025-03-17 21:06:53,922 - INFO - Saved top 20 results and metadata for care type 'childCare' at timestamp 20250317T200653Z.\n",
      "2025-03-17 21:06:53,925 - INFO - Fetching top 20 caregivers for care type 'seniorCare' from URL: https://www.care.com/fr-fr/profiles?sort=bestMatch&order=asc&isRefinedSearch=true&verticalId=seniorCare&radius=30&geoRegionId=POSTCODE-FR-75001&geoRegionSearch=75001+Paris&max=20&offset=0&id=pagination\n",
      "2025-03-17 21:06:54,604 - INFO - Extracted 0 profile IDs for care type 'seniorCare'.\n",
      "2025-03-17 21:06:54,609 - INFO - Saved top 20 results and metadata for care type 'seniorCare' at timestamp 20250317T200654Z.\n",
      "2025-03-17 21:06:54,612 - INFO - Iteration 2: Completed scrape cycle. Sleeping for 2 hours.\n",
      "2025-03-18 05:33:59,741 - INFO - Iteration 3: Starting scrape cycle for all care types.\n",
      "2025-03-18 05:33:59,807 - INFO - Fetching top 20 caregivers for care type 'childCare' from URL: https://www.care.com/fr-fr/profiles?sort=bestMatch&order=asc&isRefinedSearch=true&verticalId=childCare&radius=30&geoRegionId=POSTCODE-FR-75001&geoRegionSearch=75001+Paris&max=20&offset=0&id=pagination\n",
      "2025-03-18 05:33:59,890 - ERROR - Error fetching top 20 caregivers for care type 'childCare': ('Connection aborted.', RemoteDisconnected('Remote end closed connection without response'))\n",
      "2025-03-18 05:33:59,902 - INFO - Saved top 20 results and metadata for care type 'childCare' at timestamp 20250318T043359Z.\n",
      "2025-03-18 05:33:59,913 - INFO - Fetching top 20 caregivers for care type 'seniorCare' from URL: https://www.care.com/fr-fr/profiles?sort=bestMatch&order=asc&isRefinedSearch=true&verticalId=seniorCare&radius=30&geoRegionId=POSTCODE-FR-75001&geoRegionSearch=75001+Paris&max=20&offset=0&id=pagination\n",
      "2025-03-18 05:34:05,198 - INFO - Extracted 0 profile IDs for care type 'seniorCare'.\n",
      "2025-03-18 05:34:05,203 - INFO - Saved top 20 results and metadata for care type 'seniorCare' at timestamp 20250318T043405Z.\n",
      "2025-03-18 05:34:05,204 - INFO - Iteration 3: Completed scrape cycle. Sleeping for 2 hours.\n",
      "2025-03-18 11:07:40,100 - INFO - Iteration 4: Starting scrape cycle for all care types.\n",
      "2025-03-18 11:07:40,167 - INFO - Fetching top 20 caregivers for care type 'childCare' from URL: https://www.care.com/fr-fr/profiles?sort=bestMatch&order=asc&isRefinedSearch=true&verticalId=childCare&radius=30&geoRegionId=POSTCODE-FR-75001&geoRegionSearch=75001+Paris&max=20&offset=0&id=pagination\n",
      "2025-03-18 11:07:41,362 - INFO - Extracted 0 profile IDs for care type 'childCare'.\n",
      "2025-03-18 11:07:41,370 - INFO - Saved top 20 results and metadata for care type 'childCare' at timestamp 20250318T100741Z.\n",
      "2025-03-18 11:07:41,373 - INFO - Fetching top 20 caregivers for care type 'seniorCare' from URL: https://www.care.com/fr-fr/profiles?sort=bestMatch&order=asc&isRefinedSearch=true&verticalId=seniorCare&radius=30&geoRegionId=POSTCODE-FR-75001&geoRegionSearch=75001+Paris&max=20&offset=0&id=pagination\n",
      "2025-03-18 11:07:43,067 - INFO - Extracted 0 profile IDs for care type 'seniorCare'.\n",
      "2025-03-18 11:07:43,076 - INFO - Saved top 20 results and metadata for care type 'seniorCare' at timestamp 20250318T100743Z.\n",
      "2025-03-18 11:07:43,079 - INFO - Iteration 4: Completed scrape cycle. Sleeping for 2 hours.\n",
      "2025-03-18 13:07:43,103 - INFO - Iteration 5: Starting scrape cycle for all care types.\n",
      "2025-03-18 13:07:43,127 - INFO - Fetching top 20 caregivers for care type 'childCare' from URL: https://www.care.com/fr-fr/profiles?sort=bestMatch&order=asc&isRefinedSearch=true&verticalId=childCare&radius=30&geoRegionId=POSTCODE-FR-75001&geoRegionSearch=75001+Paris&max=20&offset=0&id=pagination\n",
      "2025-03-18 13:07:44,119 - INFO - Extracted 0 profile IDs for care type 'childCare'.\n",
      "2025-03-18 13:07:44,124 - INFO - Saved top 20 results and metadata for care type 'childCare' at timestamp 20250318T120744Z.\n",
      "2025-03-18 13:07:44,125 - INFO - Fetching top 20 caregivers for care type 'seniorCare' from URL: https://www.care.com/fr-fr/profiles?sort=bestMatch&order=asc&isRefinedSearch=true&verticalId=seniorCare&radius=30&geoRegionId=POSTCODE-FR-75001&geoRegionSearch=75001+Paris&max=20&offset=0&id=pagination\n",
      "2025-03-18 13:07:44,865 - INFO - Extracted 0 profile IDs for care type 'seniorCare'.\n",
      "2025-03-18 13:07:44,868 - INFO - Saved top 20 results and metadata for care type 'seniorCare' at timestamp 20250318T120744Z.\n",
      "2025-03-18 13:07:44,869 - INFO - Iteration 5: Completed scrape cycle. Sleeping for 2 hours.\n",
      "2025-03-18 15:07:44,901 - INFO - Monitoring period complete.\n"
     ]
    }
   ],
   "source": [
    "from monitors.top_caregivers_monitor import TopCaregiversMonitor\n",
    "from config import AUTH_TOKEN\n",
    "try:\n",
    "    # Example usage: monitor top 20 caregivers every 2 hours for 1 day.\n",
    "    monitor = TopCaregiversMonitor(\n",
    "         postal_code=\"75001\",\n",
    "         care_types=[\"childCare\", \"seniorCare\"],\n",
    "         interval_hours=2,\n",
    "         total_days=1,\n",
    "         auth_token=AUTH_TOKEN  # Replace with token string if authentication is needed.\n",
    "    )\n",
    "    monitor.run_monitor()\n",
    "\n",
    "except Exception as e:\n",
    "    print(f\"Error: {e}\")"
   ]
  }
 ],
 "metadata": {
  "kernelspec": {
   "display_name": "Python 3",
   "language": "python",
   "name": "python3"
  },
  "language_info": {
   "codemirror_mode": {
    "name": "ipython",
    "version": 3
   },
   "file_extension": ".py",
   "mimetype": "text/x-python",
   "name": "python",
   "nbconvert_exporter": "python",
   "pygments_lexer": "ipython3",
   "version": "3.11.4"
  }
 },
 "nbformat": 4,
 "nbformat_minor": 2
}
