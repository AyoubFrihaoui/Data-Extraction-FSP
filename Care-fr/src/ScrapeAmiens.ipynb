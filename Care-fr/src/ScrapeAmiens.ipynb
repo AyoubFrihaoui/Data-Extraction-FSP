{
 "cells": [
  {
   "cell_type": "markdown",
   "metadata": {},
   "source": [
    "## Amiens"
   ]
  },
  {
   "cell_type": "code",
   "execution_count": 1,
   "metadata": {},
   "outputs": [],
   "source": [
    "postal_code = \"80000\""
   ]
  },
  {
   "cell_type": "markdown",
   "metadata": {},
   "source": [
    "### ChildCare"
   ]
  },
  {
   "cell_type": "code",
   "execution_count": 2,
   "metadata": {},
   "outputs": [
    {
     "name": "stderr",
     "output_type": "stream",
     "text": [
      "2025-03-17 12:42:29,055 - INFO - Fetching URL: https://www.care.com/fr-fr/profiles?sort=bestMatch&order=asc&isRefinedSearch=true&verticalId=childCare&radius=50&geoRegionId=POSTCODE-FR-80000&geoRegionSearch=80000&max=50&offset=0&id=pagination\n",
      "2025-03-17 12:42:30,501 - DEBUG - Total results extracted: 1\n",
      "2025-03-17 12:42:30,502 - INFO - Total results found: 1\n",
      "2025-03-17 12:42:30,502 - DEBUG - Extracted IDs: ['8894373']\n",
      "2025-03-17 12:42:30,503 - INFO - Page 1: Found 1 profile IDs.\n",
      "2025-03-17 12:42:30,503 - INFO - Scraped all expected profile IDs.\n",
      "2025-03-17 12:42:30,504 - INFO - Scraping completed in 1.45 seconds, scraped 1 profile IDs.\n",
      "2025-03-17 12:42:30,507 - INFO - Saved 1 profile IDs to ../data\\raw_data\\France\\80000\\search_of_childCare__\\profileIDs.json\n"
     ]
    }
   ],
   "source": [
    "from scrapers.profiles_ids_scraper import ProfileIDScraper\n",
    "from config import AUTH_TOKEN\n",
    "try:\n",
    "    # You can override default values here if needed.\n",
    "    scraper = ProfileIDScraper(\n",
    "        postal_code=postal_code,\n",
    "        care_type=\"childCare\",\n",
    "        results_per_page=50,\n",
    "        base_url=\"https://www.care.com/fr-fr/profiles\",\n",
    "        auth_token=AUTH_TOKEN  # Replace with token string if necessary.\n",
    "    )\n",
    "    scraper.scrape()\n",
    "except Exception as e:\n",
    "    print(f\"Error: {e}\")"
   ]
  },
  {
   "cell_type": "code",
   "execution_count": 3,
   "metadata": {},
   "outputs": [
    {
     "name": "stderr",
     "output_type": "stream",
     "text": [
      "2025-03-17 12:42:30,532 - INFO - Starting profile details scraping for 1 profile IDs.\n",
      "2025-03-17 12:42:30,533 - INFO - Fetching profile details for ID 8894373 from URL: https://www.care.com/fr-fr/api/v1/profiles-details-view/8894373\n"
     ]
    },
    {
     "name": "stderr",
     "output_type": "stream",
     "text": [
      "2025-03-17 12:42:30,809 - INFO - Successfully fetched profile details for ID 8894373\n",
      "2025-03-17 12:42:30,812 - INFO - Saved profile data and metadata for ID 8894373 to ..\\data\\raw_data\\France\\80000\\Profiles_of_childCare__\n",
      "2025-03-17 12:42:31,774 - INFO - Completed scraping all profile details.\n"
     ]
    }
   ],
   "source": [
    "from scrapers.profile_details_scraper import ProfileDetailsScraper\n",
    "from config import AUTH_TOKEN\n",
    "import os\n",
    "try:\n",
    "    # Define the input file path (adjust as needed).\n",
    "    input_file_path = os.path.join(\"..\", \"data\", \"raw_data\", \"France\", postal_code, \"search_of_childCare__\", \"profileIDs.json\")\n",
    "    scraper = ProfileDetailsScraper(input_file=input_file_path, auth_token=AUTH_TOKEN)\n",
    "    scraper.scrape_profiles()\n",
    "except Exception as e:\n",
    "    print(f\"Error: {e}\")"
   ]
  },
  {
   "cell_type": "markdown",
   "metadata": {},
   "source": [
    "### ChildCare - babysitter"
   ]
  },
  {
   "cell_type": "code",
   "execution_count": 4,
   "metadata": {},
   "outputs": [
    {
     "name": "stderr",
     "output_type": "stream",
     "text": [
      "2025-03-17 12:42:31,784 - INFO - Fetching URL: https://www.care.com/fr-fr/profiles?sort=bestMatch&order=asc&isRefinedSearch=true&verticalId=childCare&radius=50&geoRegionId=POSTCODE-FR-80000&geoRegionSearch=80000&max=50&offset=0&id=pagination&subVerticalIdList=babysitter\n",
      "2025-03-17 12:42:32,555 - WARNING - Total results not found in HTML.\n",
      "2025-03-17 12:42:32,556 - WARNING - Proceeding without total results info.\n",
      "2025-03-17 12:42:32,556 - DEBUG - Extracted IDs: ['8894373']\n",
      "2025-03-17 12:42:32,557 - INFO - Page 1: Found 1 profile IDs.\n",
      "2025-03-17 12:42:33,580 - INFO - Fetching URL: https://www.care.com/fr-fr/profiles?sort=bestMatch&order=asc&isRefinedSearch=true&verticalId=childCare&radius=50&geoRegionId=POSTCODE-FR-80000&geoRegionSearch=80000&max=50&offset=50&id=pagination&subVerticalIdList=babysitter\n",
      "2025-03-17 12:42:34,263 - DEBUG - Extracted IDs: []\n",
      "2025-03-17 12:42:34,264 - INFO - No profile IDs found on this page. Ending pagination.\n",
      "2025-03-17 12:42:34,265 - INFO - Scraping completed in 2.48 seconds, scraped 1 profile IDs.\n",
      "2025-03-17 12:42:34,267 - INFO - Saved 1 profile IDs to ../data\\raw_data\\France\\80000\\search_of_childCare__babysitter\\profileIDs.json\n"
     ]
    }
   ],
   "source": [
    "from scrapers.profiles_ids_scraper import ProfileIDScraper\n",
    "from config import AUTH_TOKEN\n",
    "try:\n",
    "    # You can override default values here if needed.\n",
    "    scraper = ProfileIDScraper(\n",
    "        postal_code=postal_code,\n",
    "        care_type=\"childCare\",\n",
    "        subVerticalIdList=\"babysitter\",\n",
    "        results_per_page=50,\n",
    "        base_url=\"https://www.care.com/fr-fr/profiles\",\n",
    "        auth_token=AUTH_TOKEN  # Replace with token string if necessary.\n",
    "    )\n",
    "    scraper.scrape()\n",
    "except Exception as e:\n",
    "    print(f\"Error: {e}\")"
   ]
  },
  {
   "cell_type": "code",
   "execution_count": 5,
   "metadata": {},
   "outputs": [
    {
     "name": "stderr",
     "output_type": "stream",
     "text": [
      "2025-03-17 12:42:34,288 - INFO - Starting profile details scraping for 1 profile IDs.\n",
      "2025-03-17 12:42:34,289 - INFO - Fetching profile details for ID 8894373 from URL: https://www.care.com/fr-fr/api/v1/profiles-details-view/8894373\n",
      "2025-03-17 12:42:34,957 - INFO - Successfully fetched profile details for ID 8894373\n",
      "2025-03-17 12:42:34,963 - INFO - Saved profile data and metadata for ID 8894373 to ..\\data\\raw_data\\France\\80000\\Profiles_of_childCare__babysitter\n",
      "2025-03-17 12:42:35,988 - INFO - Completed scraping all profile details.\n"
     ]
    }
   ],
   "source": [
    "from scrapers.profile_details_scraper import ProfileDetailsScraper\n",
    "from config import AUTH_TOKEN\n",
    "import os\n",
    "try:\n",
    "    # Define the input file path (adjust as needed).\n",
    "    input_file_path = os.path.join(\"..\", \"data\", \"raw_data\", \"France\", postal_code, \"search_of_childCare__babysitter\", \"profileIDs.json\")\n",
    "    scraper = ProfileDetailsScraper(input_file=input_file_path, auth_token=AUTH_TOKEN)\n",
    "    scraper.scrape_profiles()\n",
    "except Exception as e:\n",
    "    print(f\"Error: {e}\")"
   ]
  },
  {
   "cell_type": "markdown",
   "metadata": {},
   "source": [
    "### ChildCare - nanny"
   ]
  },
  {
   "cell_type": "code",
   "execution_count": 6,
   "metadata": {},
   "outputs": [
    {
     "name": "stderr",
     "output_type": "stream",
     "text": [
      "2025-03-17 12:42:36,000 - INFO - Fetching URL: https://www.care.com/fr-fr/profiles?sort=bestMatch&order=asc&isRefinedSearch=true&verticalId=childCare&radius=50&geoRegionId=POSTCODE-FR-80000&geoRegionSearch=80000&max=50&offset=0&id=pagination&subVerticalIdList=nanny\n",
      "2025-03-17 12:42:36,672 - WARNING - Total results not found in HTML.\n",
      "2025-03-17 12:42:36,672 - WARNING - Proceeding without total results info.\n",
      "2025-03-17 12:42:36,673 - DEBUG - Extracted IDs: []\n",
      "2025-03-17 12:42:36,673 - INFO - No profile IDs found on this page. Ending pagination.\n",
      "2025-03-17 12:42:36,674 - INFO - Scraping completed in 0.67 seconds, scraped 0 profile IDs.\n",
      "2025-03-17 12:42:36,677 - INFO - Saved 0 profile IDs to ../data\\raw_data\\France\\80000\\search_of_childCare__nanny\\profileIDs.json\n"
     ]
    }
   ],
   "source": [
    "from scrapers.profiles_ids_scraper import ProfileIDScraper\n",
    "from config import AUTH_TOKEN\n",
    "try:\n",
    "    # You can override default values here if needed.\n",
    "    scraper = ProfileIDScraper(\n",
    "        postal_code=postal_code,\n",
    "        care_type=\"childCare\",\n",
    "        subVerticalIdList=\"nanny\",\n",
    "        results_per_page=50,\n",
    "        base_url=\"https://www.care.com/fr-fr/profiles\",\n",
    "        auth_token=AUTH_TOKEN  # Replace with token string if necessary.\n",
    "    )\n",
    "    scraper.scrape()\n",
    "except Exception as e:\n",
    "    print(f\"Error: {e}\")"
   ]
  },
  {
   "cell_type": "code",
   "execution_count": 7,
   "metadata": {},
   "outputs": [
    {
     "name": "stderr",
     "output_type": "stream",
     "text": [
      "2025-03-17 12:42:36,703 - INFO - Starting profile details scraping for 0 profile IDs.\n",
      "2025-03-17 12:42:36,704 - INFO - Completed scraping all profile details.\n"
     ]
    }
   ],
   "source": [
    "from scrapers.profile_details_scraper import ProfileDetailsScraper\n",
    "from config import AUTH_TOKEN\n",
    "import os\n",
    "try:\n",
    "    # Define the input file path (adjust as needed).\n",
    "    input_file_path = os.path.join(\"..\", \"data\", \"raw_data\", \"France\", postal_code, \"search_of_childCare__nanny\", \"profileIDs.json\")\n",
    "    scraper = ProfileDetailsScraper(input_file=input_file_path, auth_token=AUTH_TOKEN)\n",
    "    scraper.scrape_profiles()\n",
    "except Exception as e:\n",
    "    print(f\"Error: {e}\")"
   ]
  },
  {
   "cell_type": "markdown",
   "metadata": {},
   "source": [
    "### ChildCare - childminder"
   ]
  },
  {
   "cell_type": "code",
   "execution_count": 8,
   "metadata": {},
   "outputs": [
    {
     "name": "stderr",
     "output_type": "stream",
     "text": [
      "2025-03-17 12:42:36,713 - INFO - Fetching URL: https://www.care.com/fr-fr/profiles?sort=bestMatch&order=asc&isRefinedSearch=true&verticalId=childCare&radius=50&geoRegionId=POSTCODE-FR-80000&geoRegionSearch=80000&max=50&offset=0&id=pagination&subVerticalIdList=childminder\n",
      "2025-03-17 12:42:37,274 - WARNING - Total results not found in HTML.\n",
      "2025-03-17 12:42:37,276 - WARNING - Proceeding without total results info.\n",
      "2025-03-17 12:42:37,276 - DEBUG - Extracted IDs: []\n",
      "2025-03-17 12:42:37,277 - INFO - No profile IDs found on this page. Ending pagination.\n",
      "2025-03-17 12:42:37,278 - INFO - Scraping completed in 0.57 seconds, scraped 0 profile IDs.\n",
      "2025-03-17 12:42:37,279 - INFO - Saved 0 profile IDs to ../data\\raw_data\\France\\80000\\search_of_childCare__childminder\\profileIDs.json\n"
     ]
    }
   ],
   "source": [
    "from scrapers.profiles_ids_scraper import ProfileIDScraper\n",
    "from config import AUTH_TOKEN\n",
    "try:\n",
    "    # You can override default values here if needed.\n",
    "    scraper = ProfileIDScraper(\n",
    "        postal_code=postal_code,\n",
    "        care_type=\"childCare\",\n",
    "        subVerticalIdList=\"childminder\",\n",
    "        results_per_page=50,\n",
    "        base_url=\"https://www.care.com/fr-fr/profiles\",\n",
    "        auth_token=AUTH_TOKEN  # Replace with token string if necessary.\n",
    "    )\n",
    "    scraper.scrape()\n",
    "except Exception as e:\n",
    "    print(f\"Error: {e}\")"
   ]
  },
  {
   "cell_type": "code",
   "execution_count": 9,
   "metadata": {},
   "outputs": [
    {
     "name": "stderr",
     "output_type": "stream",
     "text": [
      "2025-03-17 12:42:37,307 - INFO - Starting profile details scraping for 0 profile IDs.\n",
      "2025-03-17 12:42:37,308 - INFO - Completed scraping all profile details.\n"
     ]
    }
   ],
   "source": [
    "from scrapers.profile_details_scraper import ProfileDetailsScraper\n",
    "from config import AUTH_TOKEN\n",
    "import os\n",
    "try:\n",
    "    # Define the input file path (adjust as needed).\n",
    "    input_file_path = os.path.join(\"..\", \"data\", \"raw_data\", \"France\", postal_code, \"search_of_childCare__childminder\", \"profileIDs.json\")\n",
    "    scraper = ProfileDetailsScraper(input_file=input_file_path, auth_token=AUTH_TOKEN)\n",
    "    scraper.scrape_profiles()\n",
    "except Exception as e:\n",
    "    print(f\"Error: {e}\")"
   ]
  },
  {
   "cell_type": "markdown",
   "metadata": {},
   "source": [
    "### SeniorCare"
   ]
  },
  {
   "cell_type": "code",
   "execution_count": 10,
   "metadata": {},
   "outputs": [
    {
     "name": "stderr",
     "output_type": "stream",
     "text": [
      "2025-03-17 12:42:37,356 - INFO - Fetching URL: https://www.care.com/fr-fr/profiles?sort=bestMatch&order=asc&isRefinedSearch=true&verticalId=seniorCare&radius=50&geoRegionId=POSTCODE-FR-80000&geoRegionSearch=80000&max=50&offset=0&id=pagination\n",
      "2025-03-17 12:42:38,519 - WARNING - Total results not found in HTML.\n",
      "2025-03-17 12:42:38,520 - WARNING - Proceeding without total results info.\n",
      "2025-03-17 12:42:38,520 - DEBUG - Extracted IDs: ['8935721', '9028034']\n",
      "2025-03-17 12:42:38,521 - INFO - Page 1: Found 2 profile IDs.\n",
      "2025-03-17 12:42:39,501 - INFO - Fetching URL: https://www.care.com/fr-fr/profiles?sort=bestMatch&order=asc&isRefinedSearch=true&verticalId=seniorCare&radius=50&geoRegionId=POSTCODE-FR-80000&geoRegionSearch=80000&max=50&offset=50&id=pagination\n",
      "2025-03-17 12:42:40,027 - DEBUG - Extracted IDs: []\n",
      "2025-03-17 12:42:40,027 - INFO - No profile IDs found on this page. Ending pagination.\n",
      "2025-03-17 12:42:40,029 - INFO - Scraping completed in 2.67 seconds, scraped 2 profile IDs.\n",
      "2025-03-17 12:42:40,030 - INFO - Saved 2 profile IDs to ../data\\raw_data\\France\\80000\\search_of_seniorCare__\\profileIDs.json\n"
     ]
    }
   ],
   "source": [
    "from scrapers.profiles_ids_scraper import ProfileIDScraper\n",
    "from config import AUTH_TOKEN\n",
    "try:\n",
    "    # You can override default values here if needed.\n",
    "    scraper = ProfileIDScraper(\n",
    "        postal_code=postal_code,\n",
    "        care_type=\"seniorCare\",\n",
    "        results_per_page=50,\n",
    "        base_url=\"https://www.care.com/fr-fr/profiles\",\n",
    "        auth_token=AUTH_TOKEN  # Replace with token string if necessary.\n",
    "    )\n",
    "    scraper.scrape()\n",
    "except Exception as e:\n",
    "    print(f\"Error: {e}\")"
   ]
  },
  {
   "cell_type": "code",
   "execution_count": 11,
   "metadata": {},
   "outputs": [
    {
     "name": "stderr",
     "output_type": "stream",
     "text": [
      "2025-03-17 12:42:40,051 - INFO - Starting profile details scraping for 2 profile IDs.\n",
      "2025-03-17 12:42:40,052 - INFO - Fetching profile details for ID 8935721 from URL: https://www.care.com/fr-fr/api/v1/profiles-details-view/8935721\n",
      "2025-03-17 12:42:40,288 - INFO - Successfully fetched profile details for ID 8935721\n",
      "2025-03-17 12:42:40,292 - INFO - Saved profile data and metadata for ID 8935721 to ..\\data\\raw_data\\France\\80000\\Profiles_of_seniorCare__\n",
      "2025-03-17 12:42:41,365 - INFO - Fetching profile details for ID 9028034 from URL: https://www.care.com/fr-fr/api/v1/profiles-details-view/9028034\n",
      "2025-03-17 12:42:41,608 - INFO - Successfully fetched profile details for ID 9028034\n",
      "2025-03-17 12:42:41,613 - INFO - Saved profile data and metadata for ID 9028034 to ..\\data\\raw_data\\France\\80000\\Profiles_of_seniorCare__\n",
      "2025-03-17 12:42:42,420 - INFO - Completed scraping all profile details.\n"
     ]
    }
   ],
   "source": [
    "from scrapers.profile_details_scraper import ProfileDetailsScraper\n",
    "from config import AUTH_TOKEN\n",
    "import os\n",
    "try:\n",
    "    # Define the input file path (adjust as needed).\n",
    "    input_file_path = os.path.join(\"..\", \"data\", \"raw_data\", \"France\", postal_code, \"search_of_seniorCare__\", \"profileIDs.json\")\n",
    "    scraper = ProfileDetailsScraper(input_file=input_file_path, auth_token=AUTH_TOKEN)\n",
    "    scraper.scrape_profiles()\n",
    "except Exception as e:\n",
    "    print(f\"Error: {e}\")"
   ]
  }
 ],
 "metadata": {
  "kernelspec": {
   "display_name": "Python 3",
   "language": "python",
   "name": "python3"
  },
  "language_info": {
   "codemirror_mode": {
    "name": "ipython",
    "version": 3
   },
   "file_extension": ".py",
   "mimetype": "text/x-python",
   "name": "python",
   "nbconvert_exporter": "python",
   "pygments_lexer": "ipython3",
   "version": "3.11.4"
  }
 },
 "nbformat": 4,
 "nbformat_minor": 2
}
