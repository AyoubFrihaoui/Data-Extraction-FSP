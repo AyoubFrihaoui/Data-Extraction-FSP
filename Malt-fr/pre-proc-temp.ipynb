{
 "cells": [
  {
   "cell_type": "code",
   "execution_count": null,
   "id": "e5ad1893",
   "metadata": {},
   "outputs": [],
   "source": [
    "index = 1\n",
    "index2 = 1\n",
    "index3 = 1\n",
    "index4 = 1\n",
    "index_languages = 1\n",
    "index_categories = 1\n",
    "index_education = 1\n",
    "index_certifications = 1\n",
    "Xpaths_map = {\n",
    "    # XPaths for various elements on the page\n",
    "    \"experience_year\" : f'//*[@id=\"__nuxt\"]/div/main/div/div[1]/div[2]/div/div[1]/div/div/div[3]/ul/li[2]/span[2]', ## single avlue\n",
    "    \"response_rate\" : f'//*[@id=\"__nuxt\"]/div/main/div/div[1]/div[2]/div/div[1]/div/div/div[3]/ul/li[3]/span[2]', ## single value\n",
    "    \"response_time\" : f'//*[@id=\"__nuxt\"]/div/main/div/div[1]/div[2]/div/div[1]/div/div/div[3]/ul/li[4]/span[2]', ##single value\n",
    "    \"domains_of_expertise\" : f'/html/body/div[1]/div/main/div/div[1]/div[2]/div/div[3]/div[2]/div/section[2]/div/div/div/div[{index}]/div/div/span/div/a/span/div', ## multiple values (list), {index} starts from 1 is used to iterate through multiple elements until null\n",
    "    \"profile_description\" : f'//*[@id=\"__nuxt\"]/div/main/div/div[1]/div[2]/div/div[3]/div[2]/div/section[3]/div/div/div', ## single value\n",
    "    \"signed_malt_freelance_chart\": f'//*[@id=\"__nuxt\"]/div/main/div/div[1]/div[2]/div/div[3]/div[1]/div/section[2]/div/div/div[1]/div/div[2]/p', ## single value\n",
    "    \"verified_email\" : f'//*[@id=\"__nuxt\"]/div/main/div/div[1]/div[2]/div/div[3]/div[1]/div/section[2]/div/div/div[4]/div/div[2]', ## single value\n",
    "    \"languages\": f'//*[@id=\"languages-section\"]/div/ul/li[{index_languages}]/p[1]', ## list of languages, multiple values, index_languages starts from 1 is used to iterate through multiple elements until null\n",
    "    \"categories\": f'//*[@id=\"__nuxt\"]/div/main/div/div[1]/div[2]/div/div[3]/div[1]/div/section[4]/div/div[{index_categories}]/ul/li[{index2}]/a/span', ## list of categories, multiple values, index_categories and index2 (nested) starts from 1 is used to iterate through multiple elements until null\n",
    "    \"experiences\" : { ## list of experiences, multiple values by index3 until null\n",
    "        \"company_name\": f'/html/body/div[1]/div/main/div/div[1]/div[2]/div/div[3]/div[2]/div/section[5]/div/ul/li[{index3}]/div/div[2]/div/div[1]/div', ## single value\n",
    "        \"title\": f'/html/body/div[1]/div/main/div/div[1]/div[2]/div/div[3]/div[2]/div/section[5]/div/ul/li[{index3}]/div/div[2]/div/div[2]', ## single value\n",
    "        \"description\": f'/html/body/div[1]/div/main/div/div[1]/div[2]/div/div[3]/div[2]/div/section[5]/div/ul/li[{index3}]/div/div[2]/div/div[4]/div', ## single value\n",
    "        \"date_range\": f'/html/body/div[1]/div/main/div/div[1]/div[2]/div/div[3]/div[2]/div/section[5]/div/ul/li[{index3}]/div/div[2]/div/div[3]/div[1]/span', ## single value\n",
    "        \"location\": f'/html/body/div[1]/div/main/div/div[1]/div[2]/div/div[3]/div[2]/div/section[5]/div/ul/li[{index3}]/div/div[2]/div/div[3]/div[2]', ## single value\n",
    "},\n",
    "    \"recommendations\": { ## list of recommendations, multiple values by index4 until null\n",
    "        \"name1\": f'/html/body/div[1]/div/main/div/div[1]/div[2]/div/div[3]/div[2]/div/section[7]/div/div/div[{index4}]/div/div/div[2]/div[1]/div[1]/span[2]', ## single value, name1 xor name2 can be null. try both paths and eliminate the null one\n",
    "        \"name2\": f'/html/body/div[1]/div/main/div/div[1]/div[2]/div/div[3]/div[2]/div/section[7]/div/div/div[{index4}]/div/div/div[2]/div[1]/div[1]/a/span/span[2]', ## single value, name1 xor name2 can be null. try both paths and eliminate the null one\n",
    "        \"company\": f'/html/body/div[1]/div/main/div/div[1]/div[2]/div/div[3]/div[2]/div/section[7]/div/div/div[{index4}]/div/div/div[2]/div[1]/div[2]', ## single value\n",
    "        \"date\": f'/html/body/div[1]/div/main/div/div[1]/div[2]/div/div[3]/div[2]/div/section[7]/div/div/div[{index4}]/div/div/div[2]/div[2]', ## single value\n",
    "        \"description\": f'/html/body/div[1]/div/main/div/div[1]/div[2]/div/div[3]/div[2]/div/section[7]/div/div/div[{index4}]/div/div/div[2]/div[3]', \n",
    "},\n",
    "    \"education\": { ## list of education, multiple values by index_education until null\n",
    "       \"degree\": f'/html/body/div[1]/div/main/div/div[1]/div[2]/div/div[3]/div[2]/div/section[8]/div/div/ul/li[{index_education}]/div/div/div/div[1]/span', ## single value\n",
    "       \"institution\": f'/html/body/div[1]/div/main/div/div[1]/div[2]/div/div[3]/div[2]/div/section[8]/div/div/ul/li[{index_education}]/div/div/div/div[2]', ## single value\n",
    "       \"date\": f'/html/body/div[1]/div/main/div/div[1]/div[2]/div/div[3]/div[2]/div/section[8]/div/div/ul/li[{index_education}]/div/div/div/div[3]/small', ## single value\n",
    "    },\n",
    "    \"certifications\": { ## list of certifications, multiple values by index_certifications until null\n",
    "        \"name\": f'/html/body/div[1]/div/main/div/div[1]/div[2]/div/div[3]/div[2]/div/section[9]/div/div/div/ul/li[{index_certifications}]/div/div/div[1]', ## single value\n",
    "        \"institution\": f'/html/body/div[1]/div/main/div/div[1]/div[2]/div/div[3]/div[2]/div/section[9]/div/div/div/ul/li[{index_certifications}]/div/div/div[2]', ## single value\n",
    "        \"link\": f'/html/body/div[1]/div/main/div/div[1]/div[2]/div/div[3]/div[2]/div/section[9]/div/div/div/ul/li[{index_certifications}]/div/div/div[4]/a/span', ## single value, not always present\n",
    "    }\n",
    "}"
   ]
  },
  {
   "cell_type": "code",
   "execution_count": null,
   "id": "7209ab03",
   "metadata": {},
   "outputs": [],
   "source": []
  }
 ],
 "metadata": {
  "kernelspec": {
   "display_name": "Python 3",
   "language": "python",
   "name": "python3"
  },
  "language_info": {
   "name": "python",
   "version": "3.11.4"
  }
 },
 "nbformat": 4,
 "nbformat_minor": 5
}
