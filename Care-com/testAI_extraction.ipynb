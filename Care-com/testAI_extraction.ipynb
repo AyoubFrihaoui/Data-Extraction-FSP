{
 "cells": [
  {
   "cell_type": "code",
   "execution_count": 2,
   "id": "bd84548f",
   "metadata": {},
   "outputs": [
    {
     "name": "stdout",
     "output_type": "stream",
     "text": [
      "```json\n",
      "{\n",
      "  \"id\": \"6117995\",\n",
      "  \"age\": 24,\n",
      "  \"gender\": \"Female\",\n",
      "  \"gender_confidence\": 0.9,\n",
      "  \"demographic_infos\": \"Paris\",\n",
      "  \"skin_color\": \"Light\",\n",
      "  \"skin_color_confidence\": 0.7,\n",
      "  \"hair\": \"Brown\",\n",
      "  \"hair_confidence\": 0.6,\n",
      "  \"eyes\": \"Brown\",\n",
      "  \"eyes_confidence\": 0.6,\n",
      "  \"education_info\": \"Psychology student\",\n",
      "  \"education_info_confidence\": 0.9,\n",
      "  \"personal_qualities\": [\n",
      "    \"Patient\",\n",
      "    \"Well-intentioned\",\n",
      "    \"Attentive\",\n",
      "    \"Respectful\",\n",
      "    \"Compassionate\"\n",
      "  ],\n",
      "  \"other\": \"\",\n",
      "  \"anonymized_bio\": \"Bonjour, je m'appelle [Name], j'ai [Age] ans et je suis actuellement étudiante en psychologie. Je propose mes services d’aide à domicile pour vos proches âgés. Patiente, bienveillante et à l’écoute, j’ai toujours eu un profond respect et un vrai attachement pour nos aînés. J’aime passer du temps avec eux, les accompagner dans leur quotidien, échanger, les faire rire ou simplement leur tenir compagnie. Mon parcours en psychologie m’a permis de développer une réelle sensibilité aux besoins des autres, en particulier des personnes âgées, qui méritent toute notre attention et notre douceur. N’hésitez pas à me contacter, je serai ravie de pouvoir vous aider.\",\n",
      "  \"notes\": \"Gender inferred from the bio and image. Age and education info directly mentioned in the bio. Demographic info inferred from the bio. Skin color, hair, and eye color estimated from the image with moderate confidence.\"\n",
      "}\n",
      "```\n",
      "Tokens used: prompt_tokens=619 completion_tokens=390 total_tokens=1009\n"
     ]
    }
   ],
   "source": [
    "from mistralai import Mistral\n",
    "from config import FSP2025\n",
    "\n",
    "client = Mistral(api_key=FSP2025)\n",
    "\n",
    "\n",
    "\n",
    "# Define your sample profile\n",
    "id = 6117995\n",
    "name = \"Sarra S.\"\n",
    "bio = \"Bonjour, je m'appelle Sarra, j'ai 24 ans et je suis actuellement étudiante en psychologie. Je propose mes services d’aide à domicile pour vos proches âgés à Paris. Patiente, bienveillante et à l’écoute, j’ai toujours eu un profond respect et un vrai attachement pour nos aînés. J’aime passer du temps avec eux, les accompagner dans leur quotidien, échanger, les faire rire ou simplement leur tenir compagnie. Mon parcours en psychologie m’a permis de développer une réelle sensibilité aux besoins des autres, en particulier des personnes âgées, qui méritent toute notre attention et notre douceur. N’hésitez pas à me contacter, je serai ravie de pouvoir vous aider.\"\n",
    "image_url = \"https://static.yoopies.com/media/cache/profil_large/upload/photos/photo_d6b7fdaa963a220e03ecf9091503e467.webp?1748877910\"\n",
    "\n",
    "# Construct prompt\n",
    "prompt = f\"\"\"\n",
    "id: {id}\n",
    "Name: {name}\n",
    "Bio: {bio}\n",
    "Image URL: {image_url}\n",
    "Instruction: from the image, bio, name. Extract and estimate: age, gender (preferably from image), demographic infos, skin color, hair, eyes, education info, personal qualities as an array, other potential quality \"other:\" into JSON.\n",
    " - i want an \"anonymized_bio\" version (in the original language) that does not contain personal information \"name, age, location..\"\n",
    " - I will use this returned JSON to enhance the dataset. so i want you to reply with JSON only, nothing else. and to provide atomic values for each field. i dont want descriptions or explanations, just the values in JSON format. you can include the metadata and explanations (such as from where the infos were extracted, any potential issues..) in the \"notes\" field.\n",
    " - For each field (do it in english). i want an \"anonymized_bio\" version (in the original language) that does not contain personal information \"name, age, location..\" (i wanna publish the dataset later). \n",
    " - i want you to add another field \"<field_name>_confidence\" with a value between 0 and 1, to indicate how confident you are about the extracted value. if you are not sure, set it to 0.5.\n",
    " the JSON should look like this + <field_name>_confidence:\n",
    " \n",
    " {{\n",
    "  \"id\": \"xxx\",\n",
    "  \"age\": ,\n",
    "  \"gender\": \"Female\",\n",
    "  \"demographic_infos\": \"\",\n",
    "  \"skin_color\": \"\",\n",
    "  \"hair\": \"\",\n",
    "  \"eyes\": \"\",\n",
    "  \"education_info\": \"\",\n",
    "  \"personal_qualities\": [\n",
    "    \"xx\",\n",
    "    \"yy\",\n",
    "    \"zz\",\n",
    "  ],\n",
    "  \"other\": \"\",\n",
    "  \"anonymized_bio\": ,\n",
    "  \"notes\": \"\"\n",
    "}}\n",
    " \n",
    "\"\"\"\n",
    "\n",
    "\"\"\" {{\n",
    "  \"id\": xxx,\n",
    "  \"age\": ,\n",
    "  \"age_confidence\": ,\n",
    "  \"gender\": \"Female\",\n",
    "  \"gender_confidence\":,\n",
    "  \"demographic_infos\": \"\",\n",
    "  \"demographic_infos_confidence\": ,\n",
    "  \"skin_color\": \"\",\n",
    "  \"skin_color_confidence\": ,\n",
    "  \"hair\": \"\",\n",
    "  \"hair_confidence\": ,\n",
    "  \"eyes\": \"\",\n",
    "  \"eyes_confidence\": ,\n",
    "  \"education_info\": \"\",\n",
    "  \"education_info_confidence\": ,\n",
    "  \"personal_qualities\": [\n",
    "    \"xx\",\n",
    "    \"yy\",\n",
    "    \"zz\",\n",
    "  ],\n",
    "  \"personal_qualities_confidence\": ,\n",
    "  \"other\": \"\",\n",
    "  \"other_confidence\": ,\n",
    "  \"notes\": \"\"\n",
    "}}\"\"\"\n",
    "\n",
    "\n",
    "resp = client.chat.complete(\n",
    "    model=\"pixtral-12b-latest\",  # or mistral-medium-2505 for vision-capable #\"pixtral-12b-latest\" # mistral-medium-latest\n",
    "    messages=[{\"role\":\"user\", \"content\": prompt}],\n",
    "    max_tokens=1200,\n",
    "    temperature=0.0\n",
    ")\n",
    "\n",
    "print(resp.choices[0].message.content)\n",
    "print(\"Tokens used:\", resp.usage)"
   ]
  },
  {
   "cell_type": "code",
   "execution_count": 39,
   "id": "c83e30f0",
   "metadata": {},
   "outputs": [
    {
     "name": "stdout",
     "output_type": "stream",
     "text": [
      "Requirement already satisfied: nest_asyncio in c:\\python311\\lib\\site-packages (1.5.8)\n",
      "Note: you may need to restart the kernel to use updated packages.\n"
     ]
    },
    {
     "name": "stderr",
     "output_type": "stream",
     "text": [
      "\n",
      "[notice] A new release of pip is available: 24.1 -> 25.1.1\n",
      "[notice] To update, run: python.exe -m pip install --upgrade pip\n"
     ]
    }
   ],
   "source": [
    "%pip install nest_asyncio"
   ]
  },
  {
   "cell_type": "code",
   "execution_count": null,
   "id": "b1d40843",
   "metadata": {},
   "outputs": [
    {
     "name": "stderr",
     "output_type": "stream",
     "text": [
      "C:\\Users\\friha\\AppData\\Local\\Temp\\ipykernel_13184\\202351683.py:8: DtypeWarning: Columns (19) have mixed types. Specify dtype option on import or set low_memory=False.\n",
      "  urls = pd.read_csv(URLS_CSV)[\"user_photos_extra_large\"].dropna().unique().tolist()[:5000]\n"
     ]
    },
    {
     "name": "stdout",
     "output_type": "stream",
     "text": [
      "500 RPS → elapsed 13.9s, statuses: {'200': 4724, '403': 273, '400': 1, '': 2}\n"
     ]
    },
    {
     "name": "stderr",
     "output_type": "stream",
     "text": [
      "Unclosed connection\n",
      "client_connection: Connection<ConnectionKey(host='platform-lookaside.fbsbx.com', port=443, is_ssl=True, ssl=True, proxy=None, proxy_auth=None, proxy_headers_hash=-3823885552659436233)>\n",
      "Unclosed connection\n",
      "client_connection: Connection<ConnectionKey(host='static.yoopies.com', port=443, is_ssl=True, ssl=True, proxy=None, proxy_auth=None, proxy_headers_hash=-3823885552659436233)>\n",
      "Unclosed connection\n",
      "client_connection: Connection<ConnectionKey(host='platform-lookaside.fbsbx.com', port=443, is_ssl=True, ssl=True, proxy=None, proxy_auth=None, proxy_headers_hash=-3823885552659436233)>\n",
      "Unclosed connection\n",
      "client_connection: Connection<ConnectionKey(host='static.yoopies.com', port=443, is_ssl=True, ssl=True, proxy=None, proxy_auth=None, proxy_headers_hash=-3823885552659436233)>\n"
     ]
    },
    {
     "name": "stdout",
     "output_type": "stream",
     "text": [
      "600 RPS → elapsed 13.0s, statuses: {'200': 4724, '403': 273, '400': 1, '': 2}\n"
     ]
    },
    {
     "name": "stderr",
     "output_type": "stream",
     "text": [
      "Unclosed connection\n",
      "client_connection: Connection<ConnectionKey(host='platform-lookaside.fbsbx.com', port=443, is_ssl=True, ssl=True, proxy=None, proxy_auth=None, proxy_headers_hash=-3823885552659436233)>\n",
      "Unclosed connection\n",
      "client_connection: Connection<ConnectionKey(host='static.yoopies.com', port=443, is_ssl=True, ssl=True, proxy=None, proxy_auth=None, proxy_headers_hash=-3823885552659436233)>\n"
     ]
    },
    {
     "name": "stdout",
     "output_type": "stream",
     "text": [
      "700 RPS → elapsed 13.0s, statuses: {'200': 4725, '403': 273, '400': 1, '': 1}\n"
     ]
    },
    {
     "name": "stderr",
     "output_type": "stream",
     "text": [
      "Unclosed connection\n",
      "client_connection: Connection<ConnectionKey(host='static.yoopies.com', port=443, is_ssl=True, ssl=True, proxy=None, proxy_auth=None, proxy_headers_hash=-3823885552659436233)>\n",
      "Unclosed connection\n",
      "client_connection: Connection<ConnectionKey(host='platform-lookaside.fbsbx.com', port=443, is_ssl=True, ssl=True, proxy=None, proxy_auth=None, proxy_headers_hash=-3823885552659436233)>\n",
      "Unclosed connection\n",
      "client_connection: Connection<ConnectionKey(host='platform-lookaside.fbsbx.com', port=443, is_ssl=True, ssl=True, proxy=None, proxy_auth=None, proxy_headers_hash=-3823885552659436233)>\n",
      "Unclosed connection\n",
      "client_connection: Connection<ConnectionKey(host='platform-lookaside.fbsbx.com', port=443, is_ssl=True, ssl=True, proxy=None, proxy_auth=None, proxy_headers_hash=-3823885552659436233)>\n",
      "Unclosed connection\n",
      "client_connection: Connection<ConnectionKey(host='static.yoopies.com', port=443, is_ssl=True, ssl=True, proxy=None, proxy_auth=None, proxy_headers_hash=-3823885552659436233)>\n"
     ]
    },
    {
     "name": "stdout",
     "output_type": "stream",
     "text": [
      "800 RPS → elapsed 14.0s, statuses: {'200': 4724, '403': 273, '400': 1, '': 2}\n"
     ]
    },
    {
     "name": "stderr",
     "output_type": "stream",
     "text": [
      "Unclosed connection\n",
      "client_connection: Connection<ConnectionKey(host='static.yoopies.com', port=443, is_ssl=True, ssl=True, proxy=None, proxy_auth=None, proxy_headers_hash=-3823885552659436233)>\n",
      "Unclosed connection\n",
      "client_connection: Connection<ConnectionKey(host='platform-lookaside.fbsbx.com', port=443, is_ssl=True, ssl=True, proxy=None, proxy_auth=None, proxy_headers_hash=-3823885552659436233)>\n",
      "Unclosed connection\n",
      "client_connection: Connection<ConnectionKey(host='static.yoopies.com', port=443, is_ssl=True, ssl=True, proxy=None, proxy_auth=None, proxy_headers_hash=-3823885552659436233)>\n"
     ]
    },
    {
     "name": "stdout",
     "output_type": "stream",
     "text": [
      "900 RPS → elapsed 13.0s, statuses: {'200': 4725, '403': 273, '400': 1, '': 1}\n"
     ]
    },
    {
     "name": "stderr",
     "output_type": "stream",
     "text": [
      "Unclosed connection\n",
      "client_connection: Connection<ConnectionKey(host='static.yoopies.com', port=443, is_ssl=True, ssl=True, proxy=None, proxy_auth=None, proxy_headers_hash=-3823885552659436233)>\n",
      "Unclosed connection\n",
      "client_connection: Connection<ConnectionKey(host='platform-lookaside.fbsbx.com', port=443, is_ssl=True, ssl=True, proxy=None, proxy_auth=None, proxy_headers_hash=-3823885552659436233)>\n",
      "Unclosed connection\n",
      "client_connection: Connection<ConnectionKey(host='platform-lookaside.fbsbx.com', port=443, is_ssl=True, ssl=True, proxy=None, proxy_auth=None, proxy_headers_hash=-3823885552659436233)>\n",
      "Unclosed connection\n",
      "client_connection: Connection<ConnectionKey(host='platform-lookaside.fbsbx.com', port=443, is_ssl=True, ssl=True, proxy=None, proxy_auth=None, proxy_headers_hash=-3823885552659436233)>\n",
      "Unclosed connection\n",
      "client_connection: Connection<ConnectionKey(host='static.yoopies.com', port=443, is_ssl=True, ssl=True, proxy=None, proxy_auth=None, proxy_headers_hash=-3823885552659436233)>\n"
     ]
    },
    {
     "name": "stdout",
     "output_type": "stream",
     "text": [
      "1000 RPS → elapsed 13.0s, statuses: {'200': 4725, '403': 273, '400': 1, '': 1}\n"
     ]
    },
    {
     "name": "stderr",
     "output_type": "stream",
     "text": [
      "Unclosed connection\n",
      "client_connection: Connection<ConnectionKey(host='static.yoopies.com', port=443, is_ssl=True, ssl=True, proxy=None, proxy_auth=None, proxy_headers_hash=-3823885552659436233)>\n",
      "Unclosed connection\n",
      "client_connection: Connection<ConnectionKey(host='platform-lookaside.fbsbx.com', port=443, is_ssl=True, ssl=True, proxy=None, proxy_auth=None, proxy_headers_hash=-3823885552659436233)>\n",
      "Unclosed connection\n",
      "client_connection: Connection<ConnectionKey(host='platform-lookaside.fbsbx.com', port=443, is_ssl=True, ssl=True, proxy=None, proxy_auth=None, proxy_headers_hash=-3823885552659436233)>\n",
      "Unclosed connection\n",
      "client_connection: Connection<ConnectionKey(host='platform-lookaside.fbsbx.com', port=443, is_ssl=True, ssl=True, proxy=None, proxy_auth=None, proxy_headers_hash=-3823885552659436233)>\n",
      "Unclosed connection\n",
      "client_connection: Connection<ConnectionKey(host='static.yoopies.com', port=443, is_ssl=True, ssl=True, proxy=None, proxy_auth=None, proxy_headers_hash=-3823885552659436233)>\n"
     ]
    },
    {
     "name": "stdout",
     "output_type": "stream",
     "text": [
      "1100 RPS → elapsed 14.0s, statuses: {'200': 4724, '403': 273, '400': 1, '': 2}\n"
     ]
    },
    {
     "name": "stderr",
     "output_type": "stream",
     "text": [
      "Unclosed connection\n",
      "client_connection: Connection<ConnectionKey(host='static.yoopies.com', port=443, is_ssl=True, ssl=True, proxy=None, proxy_auth=None, proxy_headers_hash=-3823885552659436233)>\n",
      "Unclosed connection\n",
      "client_connection: Connection<ConnectionKey(host='platform-lookaside.fbsbx.com', port=443, is_ssl=True, ssl=True, proxy=None, proxy_auth=None, proxy_headers_hash=-3823885552659436233)>\n",
      "Unclosed connection\n",
      "client_connection: Connection<ConnectionKey(host='platform-lookaside.fbsbx.com', port=443, is_ssl=True, ssl=True, proxy=None, proxy_auth=None, proxy_headers_hash=-3823885552659436233)>\n",
      "Unclosed connection\n",
      "client_connection: Connection<ConnectionKey(host='static.yoopies.com', port=443, is_ssl=True, ssl=True, proxy=None, proxy_auth=None, proxy_headers_hash=-3823885552659436233)>\n"
     ]
    },
    {
     "name": "stdout",
     "output_type": "stream",
     "text": [
      "1200 RPS → elapsed 14.0s, statuses: {'200': 4724, '403': 273, '400': 1, '': 2}\n"
     ]
    },
    {
     "name": "stderr",
     "output_type": "stream",
     "text": [
      "Unclosed connection\n",
      "client_connection: Connection<ConnectionKey(host='static.yoopies.com', port=443, is_ssl=True, ssl=True, proxy=None, proxy_auth=None, proxy_headers_hash=-3823885552659436233)>\n",
      "Unclosed connection\n",
      "client_connection: Connection<ConnectionKey(host='platform-lookaside.fbsbx.com', port=443, is_ssl=True, ssl=True, proxy=None, proxy_auth=None, proxy_headers_hash=-3823885552659436233)>\n",
      "Unclosed connection\n",
      "client_connection: Connection<ConnectionKey(host='static.yoopies.com', port=443, is_ssl=True, ssl=True, proxy=None, proxy_auth=None, proxy_headers_hash=-3823885552659436233)>\n"
     ]
    },
    {
     "name": "stdout",
     "output_type": "stream",
     "text": [
      "1300 RPS → elapsed 13.0s, statuses: {'200': 4725, '403': 273, '400': 1, '': 1}\n"
     ]
    },
    {
     "name": "stderr",
     "output_type": "stream",
     "text": [
      "Unclosed connection\n",
      "client_connection: Connection<ConnectionKey(host='static.yoopies.com', port=443, is_ssl=True, ssl=True, proxy=None, proxy_auth=None, proxy_headers_hash=-3823885552659436233)>\n",
      "Unclosed connection\n",
      "client_connection: Connection<ConnectionKey(host='platform-lookaside.fbsbx.com', port=443, is_ssl=True, ssl=True, proxy=None, proxy_auth=None, proxy_headers_hash=-3823885552659436233)>\n",
      "Unclosed connection\n",
      "client_connection: Connection<ConnectionKey(host='static.yoopies.com', port=443, is_ssl=True, ssl=True, proxy=None, proxy_auth=None, proxy_headers_hash=-3823885552659436233)>\n"
     ]
    },
    {
     "name": "stdout",
     "output_type": "stream",
     "text": [
      "1400 RPS → elapsed 12.0s, statuses: {'200': 4725, '403': 273, '400': 1, '': 1}\n"
     ]
    },
    {
     "name": "stderr",
     "output_type": "stream",
     "text": [
      "Unclosed connection\n",
      "client_connection: Connection<ConnectionKey(host='static.yoopies.com', port=443, is_ssl=True, ssl=True, proxy=None, proxy_auth=None, proxy_headers_hash=-3823885552659436233)>\n",
      "Unclosed connection\n",
      "client_connection: Connection<ConnectionKey(host='platform-lookaside.fbsbx.com', port=443, is_ssl=True, ssl=True, proxy=None, proxy_auth=None, proxy_headers_hash=-3823885552659436233)>\n",
      "Unclosed connection\n",
      "client_connection: Connection<ConnectionKey(host='platform-lookaside.fbsbx.com', port=443, is_ssl=True, ssl=True, proxy=None, proxy_auth=None, proxy_headers_hash=-3823885552659436233)>\n",
      "Unclosed connection\n",
      "client_connection: Connection<ConnectionKey(host='static.yoopies.com', port=443, is_ssl=True, ssl=True, proxy=None, proxy_auth=None, proxy_headers_hash=-3823885552659436233)>\n"
     ]
    },
    {
     "name": "stdout",
     "output_type": "stream",
     "text": [
      "1500 RPS → elapsed 13.0s, statuses: {'200': 4725, '403': 272, '400': 1, '': 2}\n"
     ]
    },
    {
     "name": "stderr",
     "output_type": "stream",
     "text": [
      "Unclosed connection\n",
      "client_connection: Connection<ConnectionKey(host='static.yoopies.com', port=443, is_ssl=True, ssl=True, proxy=None, proxy_auth=None, proxy_headers_hash=-3823885552659436233)>\n",
      "Unclosed connection\n",
      "client_connection: Connection<ConnectionKey(host='platform-lookaside.fbsbx.com', port=443, is_ssl=True, ssl=True, proxy=None, proxy_auth=None, proxy_headers_hash=-3823885552659436233)>\n",
      "Unclosed connection\n",
      "client_connection: Connection<ConnectionKey(host='static.yoopies.com', port=443, is_ssl=True, ssl=True, proxy=None, proxy_auth=None, proxy_headers_hash=-3823885552659436233)>\n"
     ]
    },
    {
     "name": "stdout",
     "output_type": "stream",
     "text": [
      "1600 RPS → elapsed 12.0s, statuses: {'200': 4725, '403': 273, '400': 1, '': 1}\n"
     ]
    },
    {
     "name": "stderr",
     "output_type": "stream",
     "text": [
      "Unclosed connection\n",
      "client_connection: Connection<ConnectionKey(host='static.yoopies.com', port=443, is_ssl=True, ssl=True, proxy=None, proxy_auth=None, proxy_headers_hash=-3823885552659436233)>\n",
      "Unclosed connection\n",
      "client_connection: Connection<ConnectionKey(host='platform-lookaside.fbsbx.com', port=443, is_ssl=True, ssl=True, proxy=None, proxy_auth=None, proxy_headers_hash=-3823885552659436233)>\n",
      "Unclosed connection\n",
      "client_connection: Connection<ConnectionKey(host='platform-lookaside.fbsbx.com', port=443, is_ssl=True, ssl=True, proxy=None, proxy_auth=None, proxy_headers_hash=-3823885552659436233)>\n",
      "Unclosed connection\n",
      "client_connection: Connection<ConnectionKey(host='platform-lookaside.fbsbx.com', port=443, is_ssl=True, ssl=True, proxy=None, proxy_auth=None, proxy_headers_hash=-3823885552659436233)>\n",
      "Unclosed connection\n",
      "client_connection: Connection<ConnectionKey(host='static.yoopies.com', port=443, is_ssl=True, ssl=True, proxy=None, proxy_auth=None, proxy_headers_hash=-3823885552659436233)>\n"
     ]
    },
    {
     "name": "stdout",
     "output_type": "stream",
     "text": [
      "1700 RPS → elapsed 13.0s, statuses: {'200': 4724, '403': 273, '400': 1, '': 2}\n"
     ]
    },
    {
     "name": "stderr",
     "output_type": "stream",
     "text": [
      "Unclosed connection\n",
      "client_connection: Connection<ConnectionKey(host='static.yoopies.com', port=443, is_ssl=True, ssl=True, proxy=None, proxy_auth=None, proxy_headers_hash=-3823885552659436233)>\n",
      "Unclosed connection\n",
      "client_connection: Connection<ConnectionKey(host='platform-lookaside.fbsbx.com', port=443, is_ssl=True, ssl=True, proxy=None, proxy_auth=None, proxy_headers_hash=-3823885552659436233)>\n",
      "Unclosed connection\n",
      "client_connection: Connection<ConnectionKey(host='platform-lookaside.fbsbx.com', port=443, is_ssl=True, ssl=True, proxy=None, proxy_auth=None, proxy_headers_hash=-3823885552659436233)>\n",
      "Unclosed connection\n",
      "client_connection: Connection<ConnectionKey(host='static.yoopies.com', port=443, is_ssl=True, ssl=True, proxy=None, proxy_auth=None, proxy_headers_hash=-3823885552659436233)>\n"
     ]
    },
    {
     "name": "stdout",
     "output_type": "stream",
     "text": [
      "1800 RPS → elapsed 12.0s, statuses: {'200': 4725, '403': 273, '400': 1, '': 1}\n"
     ]
    },
    {
     "name": "stderr",
     "output_type": "stream",
     "text": [
      "Unclosed connection\n",
      "client_connection: Connection<ConnectionKey(host='static.yoopies.com', port=443, is_ssl=True, ssl=True, proxy=None, proxy_auth=None, proxy_headers_hash=-3823885552659436233)>\n",
      "Unclosed connection\n",
      "client_connection: Connection<ConnectionKey(host='platform-lookaside.fbsbx.com', port=443, is_ssl=True, ssl=True, proxy=None, proxy_auth=None, proxy_headers_hash=-3823885552659436233)>\n",
      "Unclosed connection\n",
      "client_connection: Connection<ConnectionKey(host='platform-lookaside.fbsbx.com', port=443, is_ssl=True, ssl=True, proxy=None, proxy_auth=None, proxy_headers_hash=-3823885552659436233)>\n",
      "Unclosed connection\n",
      "client_connection: Connection<ConnectionKey(host='platform-lookaside.fbsbx.com', port=443, is_ssl=True, ssl=True, proxy=None, proxy_auth=None, proxy_headers_hash=-3823885552659436233)>\n",
      "Unclosed connection\n",
      "client_connection: Connection<ConnectionKey(host='static.yoopies.com', port=443, is_ssl=True, ssl=True, proxy=None, proxy_auth=None, proxy_headers_hash=-3823885552659436233)>\n"
     ]
    },
    {
     "name": "stdout",
     "output_type": "stream",
     "text": [
      "1900 RPS → elapsed 13.0s, statuses: {'200': 4724, '403': 273, '400': 1, '': 2}\n"
     ]
    },
    {
     "name": "stderr",
     "output_type": "stream",
     "text": [
      "Unclosed connection\n",
      "client_connection: Connection<ConnectionKey(host='static.yoopies.com', port=443, is_ssl=True, ssl=True, proxy=None, proxy_auth=None, proxy_headers_hash=-3823885552659436233)>\n",
      "Unclosed connection\n",
      "client_connection: Connection<ConnectionKey(host='platform-lookaside.fbsbx.com', port=443, is_ssl=True, ssl=True, proxy=None, proxy_auth=None, proxy_headers_hash=-3823885552659436233)>\n",
      "Unclosed connection\n",
      "client_connection: Connection<ConnectionKey(host='platform-lookaside.fbsbx.com', port=443, is_ssl=True, ssl=True, proxy=None, proxy_auth=None, proxy_headers_hash=-3823885552659436233)>\n",
      "Unclosed connection\n",
      "client_connection: Connection<ConnectionKey(host='static.yoopies.com', port=443, is_ssl=True, ssl=True, proxy=None, proxy_auth=None, proxy_headers_hash=-3823885552659436233)>\n"
     ]
    },
    {
     "name": "stdout",
     "output_type": "stream",
     "text": [
      "2000 RPS → elapsed 12.0s, statuses: {'200': 4725, '403': 273, '400': 1, '': 1}\n"
     ]
    },
    {
     "name": "stderr",
     "output_type": "stream",
     "text": [
      "Unclosed connection\n",
      "client_connection: Connection<ConnectionKey(host='static.yoopies.com', port=443, is_ssl=True, ssl=True, proxy=None, proxy_auth=None, proxy_headers_hash=-3823885552659436233)>\n",
      "Unclosed connection\n",
      "client_connection: Connection<ConnectionKey(host='platform-lookaside.fbsbx.com', port=443, is_ssl=True, ssl=True, proxy=None, proxy_auth=None, proxy_headers_hash=-3823885552659436233)>\n",
      "Unclosed connection\n",
      "client_connection: Connection<ConnectionKey(host='platform-lookaside.fbsbx.com', port=443, is_ssl=True, ssl=True, proxy=None, proxy_auth=None, proxy_headers_hash=-3823885552659436233)>\n",
      "Unclosed connection\n",
      "client_connection: Connection<ConnectionKey(host='platform-lookaside.fbsbx.com', port=443, is_ssl=True, ssl=True, proxy=None, proxy_auth=None, proxy_headers_hash=-3823885552659436233)>\n",
      "Unclosed connection\n",
      "client_connection: Connection<ConnectionKey(host='static.yoopies.com', port=443, is_ssl=True, ssl=True, proxy=None, proxy_auth=None, proxy_headers_hash=-3823885552659436233)>\n"
     ]
    },
    {
     "name": "stdout",
     "output_type": "stream",
     "text": [
      "2100 RPS → elapsed 13.0s, statuses: {'200': 4724, '403': 273, '400': 1, '': 2}\n"
     ]
    },
    {
     "name": "stderr",
     "output_type": "stream",
     "text": [
      "Unclosed connection\n",
      "client_connection: Connection<ConnectionKey(host='static.yoopies.com', port=443, is_ssl=True, ssl=True, proxy=None, proxy_auth=None, proxy_headers_hash=-3823885552659436233)>\n",
      "Unclosed connection\n",
      "client_connection: Connection<ConnectionKey(host='platform-lookaside.fbsbx.com', port=443, is_ssl=True, ssl=True, proxy=None, proxy_auth=None, proxy_headers_hash=-3823885552659436233)>\n",
      "Unclosed connection\n",
      "client_connection: Connection<ConnectionKey(host='static.yoopies.com', port=443, is_ssl=True, ssl=True, proxy=None, proxy_auth=None, proxy_headers_hash=-3823885552659436233)>\n"
     ]
    },
    {
     "name": "stdout",
     "output_type": "stream",
     "text": [
      "2200 RPS → elapsed 12.0s, statuses: {'200': 4725, '403': 273, '400': 1, '': 1}\n"
     ]
    },
    {
     "name": "stderr",
     "output_type": "stream",
     "text": [
      "Unclosed connection\n",
      "client_connection: Connection<ConnectionKey(host='platform-lookaside.fbsbx.com', port=443, is_ssl=True, ssl=True, proxy=None, proxy_auth=None, proxy_headers_hash=-3823885552659436233)>\n",
      "Unclosed connection\n",
      "client_connection: Connection<ConnectionKey(host='static.yoopies.com', port=443, is_ssl=True, ssl=True, proxy=None, proxy_auth=None, proxy_headers_hash=-3823885552659436233)>\n",
      "Unclosed connection\n",
      "client_connection: Connection<ConnectionKey(host='platform-lookaside.fbsbx.com', port=443, is_ssl=True, ssl=True, proxy=None, proxy_auth=None, proxy_headers_hash=-3823885552659436233)>\n"
     ]
    },
    {
     "name": "stdout",
     "output_type": "stream",
     "text": [
      "2300 RPS → elapsed 13.0s, statuses: {'200': 4724, '403': 273, '400': 1, '': 2}\n"
     ]
    },
    {
     "name": "stderr",
     "output_type": "stream",
     "text": [
      "Unclosed connection\n",
      "client_connection: Connection<ConnectionKey(host='static.yoopies.com', port=443, is_ssl=True, ssl=True, proxy=None, proxy_auth=None, proxy_headers_hash=-3823885552659436233)>\n",
      "Unclosed connection\n",
      "client_connection: Connection<ConnectionKey(host='platform-lookaside.fbsbx.com', port=443, is_ssl=True, ssl=True, proxy=None, proxy_auth=None, proxy_headers_hash=-3823885552659436233)>\n",
      "Unclosed connection\n",
      "client_connection: Connection<ConnectionKey(host='platform-lookaside.fbsbx.com', port=443, is_ssl=True, ssl=True, proxy=None, proxy_auth=None, proxy_headers_hash=-3823885552659436233)>\n",
      "Unclosed connection\n",
      "client_connection: Connection<ConnectionKey(host='static.yoopies.com', port=443, is_ssl=True, ssl=True, proxy=None, proxy_auth=None, proxy_headers_hash=-3823885552659436233)>\n"
     ]
    }
   ],
   "source": [
    "import nest_asyncio\n",
    "nest_asyncio.apply()\n",
    "\n",
    "import asyncio, aiohttp, time\n",
    "import pandas as pd\n",
    "\n",
    "URLS_CSV = r\"D:/Data Extraction FSP/Yoopies-fr/preprocessed_data/yoopies/flattened_ads_processed.csv\"\n",
    "urls = pd.read_csv(URLS_CSV)[\"user_photos_extra_large\"].dropna().unique().tolist()[:5000]\n",
    "\n",
    "async def test_rate(limit_per_sec):\n",
    "    sem = asyncio.Semaphore(limit_per_sec)\n",
    "    async def fetch(session, url):\n",
    "        async with sem:\n",
    "            resp = await session.get(url, timeout=10)\n",
    "            return resp.status\n",
    "\n",
    "    async with aiohttp.ClientSession(headers={\"User-Agent\":\"Mozilla/5.0\"}) as session:\n",
    "        tasks = [fetch(session, u) for u in urls[:limit_per_sec * 60]]  # 1 minute worth\n",
    "        statuses = await asyncio.gather(*tasks, return_exceptions=True)\n",
    "    return statuses\n",
    "\n",
    "async def main():\n",
    "    for RPS in range(500,5001,100):\n",
    "        start = time.time()\n",
    "        statuses = await test_rate(RPS)\n",
    "        elapsed = time.time() - start\n",
    "        counts = {}\n",
    "        for s in statuses:\n",
    "            counts[str(s)] = counts.get(str(s), 0) + 1\n",
    "        print(f\"{RPS} RPS → elapsed {elapsed:.1f}s, statuses: {counts}\")\n",
    "        await asyncio.sleep(2)\n",
    "\n",
    "if __name__==\"__main__\":\n",
    "    asyncio.run(main())\n"
   ]
  }
 ],
 "metadata": {
  "kernelspec": {
   "display_name": "Python 3",
   "language": "python",
   "name": "python3"
  },
  "language_info": {
   "codemirror_mode": {
    "name": "ipython",
    "version": 3
   },
   "file_extension": ".py",
   "mimetype": "text/x-python",
   "name": "python",
   "nbconvert_exporter": "python",
   "pygments_lexer": "ipython3",
   "version": "3.11.4"
  }
 },
 "nbformat": 4,
 "nbformat_minor": 5
}
