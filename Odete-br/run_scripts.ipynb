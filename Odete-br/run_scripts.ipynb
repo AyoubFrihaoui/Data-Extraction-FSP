{
 "cells": [
  {
   "cell_type": "code",
   "execution_count": 1,
   "id": "c8335083",
   "metadata": {},
   "outputs": [
    {
     "name": "stdout",
     "output_type": "stream",
     "text": [
      "Created directory: odete_data\\processed\n",
      "2025-05-15 16:22:01,671 - INFO - [data_quality_check:508] - --- Starting Odete.com.br Data Processing (v5) ---\n",
      "2025-05-15 16:22:01,672 - INFO - [data_quality_check:91] - Scanning HTML files in: D:\\ODETE\\ODETES\\ODETE\\odete.com.br\\diarista\n",
      "2025-05-15 16:22:01,890 - INFO - [data_quality_check:94] - Found 3017 potential files.\n",
      "2025-05-15 16:22:23,046 - INFO - [data_quality_check:96] - Processing file 200/3017: 5fff36e0da366c001ec64c10\n",
      "2025-05-15 16:22:44,250 - INFO - [data_quality_check:96] - Processing file 400/3017: 60aa770f419ef515da897eae\n",
      "2025-05-15 16:23:05,350 - INFO - [data_quality_check:96] - Processing file 600/3017: 6104b5ad3f5dfc001c5cb13e\n",
      "2025-05-15 16:23:26,278 - INFO - [data_quality_check:96] - Processing file 800/3017: 6125aa25f63f1f001d8f008a\n",
      "2025-05-15 16:23:47,098 - INFO - [data_quality_check:96] - Processing file 1000/3017: 61425c2ea134ef001daae682\n",
      "2025-05-15 16:24:07,868 - INFO - [data_quality_check:96] - Processing file 1200/3017: 6162f6b2289b892fe19e7476\n",
      "2025-05-15 16:24:30,102 - INFO - [data_quality_check:96] - Processing file 1400/3017: 6177134b384119001d29a858\n",
      "2025-05-15 16:24:51,315 - INFO - [data_quality_check:96] - Processing file 1600/3017: 61943ecc0f385c001d2d36b0\n",
      "2025-05-15 16:25:12,449 - INFO - [data_quality_check:96] - Processing file 1800/3017: 61be58ca0e1632001d6e5df0\n",
      "2025-05-15 16:25:35,277 - INFO - [data_quality_check:96] - Processing file 2000/3017: 61f0ace45e06d9001d280ce8\n",
      "2025-05-15 16:25:57,053 - INFO - [data_quality_check:96] - Processing file 2200/3017: 621816a8d7959a05f79a4474\n",
      "2025-05-15 16:26:17,899 - INFO - [data_quality_check:96] - Processing file 2400/3017: 624f36ad956744191ee0fbfa\n",
      "2025-05-15 16:26:39,532 - INFO - [data_quality_check:96] - Processing file 2600/3017: 632a099d119eb0001d78a968\n",
      "2025-05-15 16:27:01,177 - INFO - [data_quality_check:96] - Processing file 2800/3017: 651dbaf00c7e5d001b784840\n",
      "2025-05-15 16:27:26,390 - INFO - [data_quality_check:96] - Processing file 3000/3017: 66c63ca9d65ef7001cc3cfb3\n",
      "2025-05-15 16:27:28,572 - INFO - [data_quality_check:107] - Successfully loaded and parsed data from 3017/3017 files.\n",
      "2025-05-15 16:27:28,573 - INFO - [data_quality_check:512] - HTML loading and initial parsing took 326.90 seconds.\n",
      "2025-05-15 16:27:28,574 - INFO - [data_quality_check:159] - Aggregating 3017 items...\n",
      "2025-05-15 16:27:33,213 - INFO - [data_quality_check:171] - Aggregated DataFrame: 3017 unique profiles, 34 columns.\n",
      "2025-05-15 16:27:33,216 - INFO - [data_quality_check:517] - Flattening and aggregation took 4.64 seconds.\n",
      "2025-05-15 16:27:33,217 - INFO - [data_quality_check:520] - --- Initial QC on Flattened Data ---\n",
      "2025-05-15 16:27:33,218 - INFO - [data_quality_check:209] - --- Running Quality Checks for DataFrame: 'flattened_profiles' (Rows: 3017) ---\n",
      "2025-05-15 16:27:33,327 - INFO - [data_quality_check:224] - Schema validation PASSED for 'flattened_profiles'.\n",
      "2025-05-15 16:27:33,505 - INFO - [data_quality_check:258] - --- Finished QC for 'flattened_profiles' in 0.29s ---\n",
      "2025-05-15 16:27:33,508 - INFO - [data_quality_check:526] - Initial QC passed for flattened_profiles.\n",
      "2025-05-15 16:27:33,509 - INFO - [data_quality_check:528] - --- Starting Data Normalization (v5) ---\n",
      "2025-05-15 16:27:33,510 - INFO - [data_quality_check:264] - Normalizing 'Profiles' table...\n",
      "2025-05-15 16:27:33,516 - INFO - [data_quality_check:309] - Created 'Profiles' table with 3017 rows and 26 columns.\n",
      "2025-05-15 16:27:33,516 - INFO - [data_quality_check:316] - Normalizing Profile Services (revised approach)...\n",
      "2025-05-15 16:27:33,668 - INFO - [data_quality_check:342] - Created 'ProfileServices' table with 10266 service entries.\n",
      "2025-05-15 16:27:33,672 - INFO - [data_quality_check:347] - Normalizing recommendations (comentarios)...\n",
      "2025-05-15 16:27:34,504 - INFO - [data_quality_check:378] - Created 'Recommendations' table with 904 entries.\n",
      "2025-05-15 16:27:34,505 - INFO - [data_quality_check:383] - Normalizing badges (selos)...\n",
      "2025-05-15 16:27:34,643 - INFO - [data_quality_check:427] - Created 'BadgeTypes' table with 18 unique badge types.\n",
      "2025-05-15 16:27:34,644 - INFO - [data_quality_check:432] - Created 'ProfileBadges' table with 4978 badge assignments.\n",
      "2025-05-15 16:27:34,645 - INFO - [data_quality_check:439] - Normalizing job solicitations (solicitacoes) and evaluations...\n",
      "2025-05-15 16:27:35,299 - INFO - [data_quality_check:496] - Created 'JobSolicitations' table with 743 entries.\n",
      "2025-05-15 16:27:35,300 - INFO - [data_quality_check:500] - Created 'JobEvaluationCriteria' table with 3178 entries.\n",
      "2025-05-15 16:27:35,303 - INFO - [data_quality_check:560] - Normalization phase took 1.79 seconds.\n",
      "2025-05-15 16:27:35,305 - INFO - [data_quality_check:563] - --- QC and Export Normalized Tables (v5) ---\n",
      "2025-05-15 16:27:35,314 - INFO - [data_quality_check:657] - --- QC & Export for Normalized Table: 'Profiles' ---\n",
      "2025-05-15 16:27:35,315 - INFO - [data_quality_check:209] - --- Running Quality Checks for DataFrame: 'Profiles' (Rows: 3017) ---\n",
      "2025-05-15 16:27:35,382 - INFO - [data_quality_check:224] - Schema validation PASSED for 'Profiles'.\n",
      "2025-05-15 16:27:35,491 - INFO - [data_quality_check:258] - --- Finished QC for 'Profiles' in 0.18s ---\n",
      "2025-05-15 16:27:35,493 - INFO - [data_quality_check:657] - --- QC & Export for Normalized Table: 'ProfileServices' ---\n",
      "2025-05-15 16:27:35,494 - INFO - [data_quality_check:209] - --- Running Quality Checks for DataFrame: 'ProfileServices' (Rows: 10266) ---\n",
      "2025-05-15 16:27:35,513 - INFO - [data_quality_check:224] - Schema validation PASSED for 'ProfileServices'.\n",
      "2025-05-15 16:27:35,542 - INFO - [data_quality_check:258] - --- Finished QC for 'ProfileServices' in 0.05s ---\n",
      "2025-05-15 16:27:35,544 - INFO - [data_quality_check:657] - --- QC & Export for Normalized Table: 'Recommendations' ---\n",
      "2025-05-15 16:27:35,545 - INFO - [data_quality_check:209] - --- Running Quality Checks for DataFrame: 'Recommendations' (Rows: 904) ---\n",
      "2025-05-15 16:27:35,571 - INFO - [data_quality_check:224] - Schema validation PASSED for 'Recommendations'.\n",
      "2025-05-15 16:27:35,598 - INFO - [data_quality_check:258] - --- Finished QC for 'Recommendations' in 0.05s ---\n",
      "2025-05-15 16:27:35,600 - INFO - [data_quality_check:657] - --- QC & Export for Normalized Table: 'BadgeTypes' ---\n",
      "2025-05-15 16:27:35,601 - INFO - [data_quality_check:209] - --- Running Quality Checks for DataFrame: 'BadgeTypes' (Rows: 18) ---\n",
      "2025-05-15 16:27:35,620 - INFO - [data_quality_check:224] - Schema validation PASSED for 'BadgeTypes'.\n",
      "2025-05-15 16:27:35,630 - INFO - [data_quality_check:258] - --- Finished QC for 'BadgeTypes' in 0.03s ---\n",
      "2025-05-15 16:27:35,632 - INFO - [data_quality_check:657] - --- QC & Export for Normalized Table: 'ProfileBadges' ---\n",
      "2025-05-15 16:27:35,633 - INFO - [data_quality_check:209] - --- Running Quality Checks for DataFrame: 'ProfileBadges' (Rows: 4978) ---\n",
      "2025-05-15 16:27:35,664 - INFO - [data_quality_check:224] - Schema validation PASSED for 'ProfileBadges'.\n",
      "2025-05-15 16:27:35,688 - INFO - [data_quality_check:258] - --- Finished QC for 'ProfileBadges' in 0.05s ---\n",
      "2025-05-15 16:27:35,690 - INFO - [data_quality_check:657] - --- QC & Export for Normalized Table: 'JobSolicitations' ---\n",
      "2025-05-15 16:27:35,691 - INFO - [data_quality_check:209] - --- Running Quality Checks for DataFrame: 'JobSolicitations' (Rows: 743) ---\n",
      "2025-05-15 16:27:35,720 - INFO - [data_quality_check:224] - Schema validation PASSED for 'JobSolicitations'.\n",
      "2025-05-15 16:27:35,746 - INFO - [data_quality_check:258] - --- Finished QC for 'JobSolicitations' in 0.05s ---\n",
      "2025-05-15 16:27:35,748 - INFO - [data_quality_check:657] - --- QC & Export for Normalized Table: 'JobEvaluationCriteria' ---\n",
      "2025-05-15 16:27:35,749 - INFO - [data_quality_check:209] - --- Running Quality Checks for DataFrame: 'JobEvaluationCriteria' (Rows: 3178) ---\n",
      "2025-05-15 16:27:35,767 - INFO - [data_quality_check:224] - Schema validation PASSED for 'JobEvaluationCriteria'.\n",
      "2025-05-15 16:27:35,784 - INFO - [data_quality_check:258] - --- Finished QC for 'JobEvaluationCriteria' in 0.04s ---\n",
      "2025-05-15 16:27:35,785 - INFO - [data_quality_check:693] - --- Odete.com.br Data Processing Finished in 334.12 seconds ---\n"
     ]
    }
   ],
   "source": [
    "from etl.data_quality_check import run_data_processing\n",
    "run_data_processing()"
   ]
  }
 ],
 "metadata": {
  "kernelspec": {
   "display_name": "Python 3",
   "language": "python",
   "name": "python3"
  },
  "language_info": {
   "codemirror_mode": {
    "name": "ipython",
    "version": 3
   },
   "file_extension": ".py",
   "mimetype": "text/x-python",
   "name": "python",
   "nbconvert_exporter": "python",
   "pygments_lexer": "ipython3",
   "version": "3.11.4"
  }
 },
 "nbformat": 4,
 "nbformat_minor": 5
}
