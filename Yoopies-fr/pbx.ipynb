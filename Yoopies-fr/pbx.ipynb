{
 "cells": [
  {
   "cell_type": "code",
   "execution_count": 1,
   "id": "b16ada7f",
   "metadata": {},
   "outputs": [
    {
     "name": "stdout",
     "output_type": "stream",
     "text": [
      "DEBUG: Unique values for 'User Experience Group' (group: experience) being processed: ['Aucune expérience', 'Expérience <1', 'Expérience >10', 'Expérience [1-5]', 'Expérience [5-10]']\n",
      "DEBUG: Value counts in filtered df_feature for 'User Experience Group':\n",
      "User Experience Group\n",
      "Expérience [1-5]     17423\n",
      "Expérience <1         7592\n",
      "Expérience [5-10]     5330\n",
      "Expérience >10        5008\n",
      "Aucune expérience     2234\n",
      "Name: count, dtype: int64\n",
      "Attempting to fit model for experience with formula: UserHasWorked ~ C(User_Experience_Group, Treatment(reference='Aucune_expérience'))\n",
      "Attempting to fit model for Rate - User Has Min Wage with formula: UserHasWorked ~ C(User_Has_Min_Wage_Rate, Treatment(reference='False'))\n",
      "Attempting to fit model for Rate - User Has 15 Plus with formula: UserHasWorked ~ C(User_Has_15_Plus_Rate, Treatment(reference='False'))\n",
      "Info: 'User_Gender' column not found. Skipping.\n",
      "Attempting to fit model for Codage Langues with formula: UserHasWorked ~ C(User_French_Proficiency, Treatment(reference='NATIVE_FRENCH'))\n",
      "Attempting to fit model for City with formula: UserHasWorked ~ C(City_Group_Temp, Treatment(reference='Bordeaux'))\n"
     ]
    },
    {
     "data": {
      "text/html": [
       "<div>\n",
       "<style scoped>\n",
       "    .dataframe tbody tr th:only-of-type {\n",
       "        vertical-align: middle;\n",
       "    }\n",
       "\n",
       "    .dataframe tbody tr th {\n",
       "        vertical-align: top;\n",
       "    }\n",
       "\n",
       "    .dataframe thead th {\n",
       "        text-align: right;\n",
       "    }\n",
       "</style>\n",
       "<table border=\"1\" class=\"dataframe\">\n",
       "  <thead>\n",
       "    <tr style=\"text-align: right;\">\n",
       "      <th></th>\n",
       "      <th>CharacteristicGroup</th>\n",
       "      <th>CharacteristicValue</th>\n",
       "      <th>log_OR</th>\n",
       "      <th>p_value</th>\n",
       "      <th>N_category</th>\n",
       "      <th>N_worked_in_category</th>\n",
       "      <th>Percentage_worked_in_category</th>\n",
       "      <th>N_total_analysis</th>\n",
       "      <th>N_worked_total_analysis</th>\n",
       "      <th>Percentage_worked_total_analysis</th>\n",
       "    </tr>\n",
       "  </thead>\n",
       "  <tbody>\n",
       "    <tr>\n",
       "      <th>0</th>\n",
       "      <td>experience</td>\n",
       "      <td>Aucune expérience</td>\n",
       "      <td>NaN</td>\n",
       "      <td></td>\n",
       "      <td>2234</td>\n",
       "      <td>131</td>\n",
       "      <td>5.86392</td>\n",
       "      <td>37587</td>\n",
       "      <td>2912</td>\n",
       "      <td>7.74736</td>\n",
       "    </tr>\n",
       "    <tr>\n",
       "      <th>1</th>\n",
       "      <td>experience</td>\n",
       "      <td>Expérience &lt;1</td>\n",
       "      <td>-0.54759</td>\n",
       "      <td>&lt; 0.001</td>\n",
       "      <td>7592</td>\n",
       "      <td>264</td>\n",
       "      <td>3.47734</td>\n",
       "      <td>37587</td>\n",
       "      <td>2912</td>\n",
       "      <td>7.74736</td>\n",
       "    </tr>\n",
       "    <tr>\n",
       "      <th>2</th>\n",
       "      <td>experience</td>\n",
       "      <td>Expérience &gt;10</td>\n",
       "      <td>0.34266</td>\n",
       "      <td>&lt; 0.001</td>\n",
       "      <td>5008</td>\n",
       "      <td>404</td>\n",
       "      <td>8.06709</td>\n",
       "      <td>37587</td>\n",
       "      <td>2912</td>\n",
       "      <td>7.74736</td>\n",
       "    </tr>\n",
       "    <tr>\n",
       "      <th>3</th>\n",
       "      <td>experience</td>\n",
       "      <td>Expérience [1-5]</td>\n",
       "      <td>0.44601</td>\n",
       "      <td>&lt; 0.001</td>\n",
       "      <td>17423</td>\n",
       "      <td>1545</td>\n",
       "      <td>8.86759</td>\n",
       "      <td>37587</td>\n",
       "      <td>2912</td>\n",
       "      <td>7.74736</td>\n",
       "    </tr>\n",
       "    <tr>\n",
       "      <th>4</th>\n",
       "      <td>experience</td>\n",
       "      <td>Expérience [5-10]</td>\n",
       "      <td>0.64962</td>\n",
       "      <td>&lt; 0.001</td>\n",
       "      <td>5330</td>\n",
       "      <td>568</td>\n",
       "      <td>10.65666</td>\n",
       "      <td>37587</td>\n",
       "      <td>2912</td>\n",
       "      <td>7.74736</td>\n",
       "    </tr>\n",
       "    <tr>\n",
       "      <th>5</th>\n",
       "      <td>Rate - User Has Min Wage</td>\n",
       "      <td>False</td>\n",
       "      <td>NaN</td>\n",
       "      <td></td>\n",
       "      <td>961</td>\n",
       "      <td>5</td>\n",
       "      <td>0.52029</td>\n",
       "      <td>37587</td>\n",
       "      <td>2912</td>\n",
       "      <td>7.74736</td>\n",
       "    </tr>\n",
       "    <tr>\n",
       "      <th>6</th>\n",
       "      <td>Rate - User Has Min Wage</td>\n",
       "      <td>True</td>\n",
       "      <td>2.80238</td>\n",
       "      <td>&lt; 0.001</td>\n",
       "      <td>36626</td>\n",
       "      <td>2907</td>\n",
       "      <td>7.93698</td>\n",
       "      <td>37587</td>\n",
       "      <td>2912</td>\n",
       "      <td>7.74736</td>\n",
       "    </tr>\n",
       "    <tr>\n",
       "      <th>7</th>\n",
       "      <td>Rate - User Has 15 Plus</td>\n",
       "      <td>False</td>\n",
       "      <td>NaN</td>\n",
       "      <td></td>\n",
       "      <td>30702</td>\n",
       "      <td>2058</td>\n",
       "      <td>6.70315</td>\n",
       "      <td>37587</td>\n",
       "      <td>2912</td>\n",
       "      <td>7.74736</td>\n",
       "    </tr>\n",
       "    <tr>\n",
       "      <th>8</th>\n",
       "      <td>Rate - User Has 15 Plus</td>\n",
       "      <td>True</td>\n",
       "      <td>0.67847</td>\n",
       "      <td>&lt; 0.001</td>\n",
       "      <td>6885</td>\n",
       "      <td>854</td>\n",
       "      <td>12.40378</td>\n",
       "      <td>37587</td>\n",
       "      <td>2912</td>\n",
       "      <td>7.74736</td>\n",
       "    </tr>\n",
       "    <tr>\n",
       "      <th>9</th>\n",
       "      <td>Gender</td>\n",
       "      <td>Column not provided</td>\n",
       "      <td>NaN</td>\n",
       "      <td></td>\n",
       "      <td>0</td>\n",
       "      <td>0</td>\n",
       "      <td>NaN</td>\n",
       "      <td>0</td>\n",
       "      <td>0</td>\n",
       "      <td>NaN</td>\n",
       "    </tr>\n",
       "    <tr>\n",
       "      <th>10</th>\n",
       "      <td>Codage Langues</td>\n",
       "      <td>NATIVE FRENCH</td>\n",
       "      <td>NaN</td>\n",
       "      <td></td>\n",
       "      <td>23971</td>\n",
       "      <td>1438</td>\n",
       "      <td>5.99892</td>\n",
       "      <td>37587</td>\n",
       "      <td>2912</td>\n",
       "      <td>7.74736</td>\n",
       "    </tr>\n",
       "    <tr>\n",
       "      <th>11</th>\n",
       "      <td>Codage Langues</td>\n",
       "      <td>NON FRENCH</td>\n",
       "      <td>-0.09453</td>\n",
       "      <td>0.18614</td>\n",
       "      <td>4410</td>\n",
       "      <td>242</td>\n",
       "      <td>5.48753</td>\n",
       "      <td>37587</td>\n",
       "      <td>2912</td>\n",
       "      <td>7.74736</td>\n",
       "    </tr>\n",
       "    <tr>\n",
       "      <th>12</th>\n",
       "      <td>Codage Langues</td>\n",
       "      <td>NON NATIVE FRENCH</td>\n",
       "      <td>0.88418</td>\n",
       "      <td>&lt; 0.001</td>\n",
       "      <td>9206</td>\n",
       "      <td>1232</td>\n",
       "      <td>13.38258</td>\n",
       "      <td>37587</td>\n",
       "      <td>2912</td>\n",
       "      <td>7.74736</td>\n",
       "    </tr>\n",
       "    <tr>\n",
       "      <th>13</th>\n",
       "      <td>City</td>\n",
       "      <td>Bordeaux</td>\n",
       "      <td>NaN</td>\n",
       "      <td></td>\n",
       "      <td>304</td>\n",
       "      <td>48</td>\n",
       "      <td>15.78947</td>\n",
       "      <td>3504</td>\n",
       "      <td>454</td>\n",
       "      <td>12.95662</td>\n",
       "    </tr>\n",
       "    <tr>\n",
       "      <th>14</th>\n",
       "      <td>City</td>\n",
       "      <td>Paris</td>\n",
       "      <td>-0.25490</td>\n",
       "      <td>0.12468</td>\n",
       "      <td>3200</td>\n",
       "      <td>406</td>\n",
       "      <td>12.68750</td>\n",
       "      <td>3504</td>\n",
       "      <td>454</td>\n",
       "      <td>12.95662</td>\n",
       "    </tr>\n",
       "  </tbody>\n",
       "</table>\n",
       "</div>"
      ],
      "text/plain": [
       "         CharacteristicGroup  CharacteristicValue   log_OR  p_value  \\\n",
       "0                 experience    Aucune expérience      NaN            \n",
       "1                 experience        Expérience <1 -0.54759  < 0.001   \n",
       "2                 experience       Expérience >10  0.34266  < 0.001   \n",
       "3                 experience     Expérience [1-5]  0.44601  < 0.001   \n",
       "4                 experience    Expérience [5-10]  0.64962  < 0.001   \n",
       "5   Rate - User Has Min Wage                False      NaN            \n",
       "6   Rate - User Has Min Wage                 True  2.80238  < 0.001   \n",
       "7    Rate - User Has 15 Plus                False      NaN            \n",
       "8    Rate - User Has 15 Plus                 True  0.67847  < 0.001   \n",
       "9                     Gender  Column not provided      NaN            \n",
       "10            Codage Langues        NATIVE FRENCH      NaN            \n",
       "11            Codage Langues           NON FRENCH -0.09453  0.18614   \n",
       "12            Codage Langues    NON NATIVE FRENCH  0.88418  < 0.001   \n",
       "13                      City             Bordeaux      NaN            \n",
       "14                      City                Paris -0.25490  0.12468   \n",
       "\n",
       "    N_category  N_worked_in_category  Percentage_worked_in_category  \\\n",
       "0         2234                   131                        5.86392   \n",
       "1         7592                   264                        3.47734   \n",
       "2         5008                   404                        8.06709   \n",
       "3        17423                  1545                        8.86759   \n",
       "4         5330                   568                       10.65666   \n",
       "5          961                     5                        0.52029   \n",
       "6        36626                  2907                        7.93698   \n",
       "7        30702                  2058                        6.70315   \n",
       "8         6885                   854                       12.40378   \n",
       "9            0                     0                            NaN   \n",
       "10       23971                  1438                        5.99892   \n",
       "11        4410                   242                        5.48753   \n",
       "12        9206                  1232                       13.38258   \n",
       "13         304                    48                       15.78947   \n",
       "14        3200                   406                       12.68750   \n",
       "\n",
       "    N_total_analysis  N_worked_total_analysis  \\\n",
       "0              37587                     2912   \n",
       "1              37587                     2912   \n",
       "2              37587                     2912   \n",
       "3              37587                     2912   \n",
       "4              37587                     2912   \n",
       "5              37587                     2912   \n",
       "6              37587                     2912   \n",
       "7              37587                     2912   \n",
       "8              37587                     2912   \n",
       "9                  0                        0   \n",
       "10             37587                     2912   \n",
       "11             37587                     2912   \n",
       "12             37587                     2912   \n",
       "13              3504                      454   \n",
       "14              3504                      454   \n",
       "\n",
       "    Percentage_worked_total_analysis  \n",
       "0                            7.74736  \n",
       "1                            7.74736  \n",
       "2                            7.74736  \n",
       "3                            7.74736  \n",
       "4                            7.74736  \n",
       "5                            7.74736  \n",
       "6                            7.74736  \n",
       "7                            7.74736  \n",
       "8                            7.74736  \n",
       "9                                NaN  \n",
       "10                           7.74736  \n",
       "11                           7.74736  \n",
       "12                           7.74736  \n",
       "13                          12.95662  \n",
       "14                          12.95662  "
      ]
     },
     "execution_count": 1,
     "metadata": {},
     "output_type": "execute_result"
    }
   ],
   "source": [
    "# Prolog - Auto Generated #\n",
    "import os, uuid, matplotlib\n",
    "matplotlib.use('Agg')\n",
    "import matplotlib.pyplot\n",
    "import pandas\n",
    "\n",
    "import sys\n",
    "sys.tracebacklimit = 0\n",
    "\n",
    "os.chdir(u'C:/Users/friha/PythonEditorWrapper_8de9bb44-c5e2-4b9b-a916-40b4add7c106')\n",
    "dataset = pandas.read_csv('input_df_889eb8aa-9cdf-4f54-8631-b9d8d6f007b3.csv')\n",
    "\n",
    "matplotlib.pyplot.figure(figsize=(5.55555555555556,4.16666666666667), dpi=72)\n",
    "matplotlib.pyplot.show = lambda args=None,kw=None: matplotlib.pyplot.savefig(str(uuid.uuid1()))\n",
    "# Original Script. Please update your script content here and once completed copy below section back to the original editing window #\n",
    "import pandas as pd\n",
    "import statsmodels.formula.api as smf\n",
    "import numpy as np\n",
    "import re\n",
    "import matplotlib.pyplot as plt # Standard import for Power BI Python visuals\n",
    "\n",
    "# --- Helper function to sanitize strings for Patsy formulas ---\n",
    "def sanitize_for_patsy(name):\n",
    "    if not isinstance(name, str): name = str(name)\n",
    "    name = re.sub(r'[^\\w_]', '_', name)\n",
    "    if name and name[0].isdigit(): name = 's_' + name\n",
    "    if not name: return \"sanitized_empty_val\"\n",
    "    return name\n",
    "\n",
    "# --- Helper Function to Run Logistic Regression and Get Stats ---\n",
    "def analyze_feature(df_input, outcome_col, original_feature_col_name,\n",
    "                    original_reference_category,\n",
    "                    group_name_display,\n",
    "                    all_categories_ordered=None):\n",
    "    results = []\n",
    "    default_cols = {'log_OR': np.nan, 'p_value': np.nan,\n",
    "                    'N_category': 0, 'N_worked_in_category': 0,\n",
    "                    'N_total_analysis': 0, 'N_worked_total_analysis': 0,\n",
    "                    'Percentage_worked_in_category': np.nan,\n",
    "                    'Percentage_worked_total_analysis': np.nan}\n",
    "\n",
    "    if original_feature_col_name not in df_input.columns:\n",
    "        print(f\"Warning: Feature column '{original_feature_col_name}' not found. Skipping {group_name_display}.\")\n",
    "        results.append({'CharacteristicGroup': group_name_display,\n",
    "                        'CharacteristicValue': 'Feature column missing', **default_cols})\n",
    "        return results\n",
    "\n",
    "    df_feature = df_input[['user_id', outcome_col, original_feature_col_name]].copy()\n",
    "    df_feature[outcome_col] = pd.to_numeric(df_feature[outcome_col], errors='coerce')\n",
    "    df_feature[original_feature_col_name] = df_feature[original_feature_col_name].astype(str)\n",
    "    df_feature.dropna(subset=[outcome_col, original_feature_col_name], inplace=True)\n",
    "\n",
    "    if df_feature.empty:\n",
    "        print(f\"Info: No data for {group_name_display} after initial NaN drop. Skipping model.\")\n",
    "        error_char_value = 'No data after NaN drop'\n",
    "        if all_categories_ordered: error_char_value = f\"No data for {all_categories_ordered[0]} (and others)\"\n",
    "        results.append({'CharacteristicGroup': group_name_display,\n",
    "                        'CharacteristicValue': error_char_value, **default_cols})\n",
    "        return results\n",
    "\n",
    "    try:\n",
    "        df_feature[outcome_col] = df_feature[outcome_col].astype(np.int64)\n",
    "    except Exception as e_astype:\n",
    "        print(f\"Error converting outcome '{outcome_col}' to np.int64 for {group_name_display}: {e_astype}. Skipping.\")\n",
    "        results.append({'CharacteristicGroup': group_name_display,\n",
    "                        'CharacteristicValue': f'Outcome conversion error: {e_astype}', **default_cols})\n",
    "        return results\n",
    "\n",
    "    df_feature.drop_duplicates(subset=['user_id', original_feature_col_name, outcome_col], inplace=True)\n",
    "\n",
    "    if all_categories_ordered is None:\n",
    "        discovered_categories = sorted(df_feature[original_feature_col_name].unique().astype(str))\n",
    "        categories_to_iterate_for_output = discovered_categories\n",
    "        if not discovered_categories:\n",
    "             print(f\"Info: No unique categories found in data for '{original_feature_col_name}' in group '{group_name_display}'.\")\n",
    "             results.append({'CharacteristicGroup': group_name_display,\n",
    "                             'CharacteristicValue': 'No categories in data', **default_cols})\n",
    "             return results\n",
    "    else:\n",
    "        categories_to_iterate_for_output = [str(cat) for cat in all_categories_ordered]\n",
    "\n",
    "    if original_feature_col_name == 'User Experience Group':\n",
    "        print(f\"DEBUG: Unique values for '{original_feature_col_name}' (group: {group_name_display}) being processed: {categories_to_iterate_for_output}\")\n",
    "        print(f\"DEBUG: Value counts in filtered df_feature for '{original_feature_col_name}':\\n{df_feature[original_feature_col_name].value_counts().head(10)}\")\n",
    "\n",
    "    sanitized_feature_col_name = sanitize_for_patsy(original_feature_col_name)\n",
    "    df_feature[sanitized_feature_col_name] = df_feature[original_feature_col_name].apply(sanitize_for_patsy)\n",
    "    sanitized_reference_category = sanitize_for_patsy(original_reference_category)\n",
    "\n",
    "    if df_feature.empty or df_feature[outcome_col].nunique() < 2 or df_feature[sanitized_feature_col_name].nunique() < 1 :\n",
    "        error_msg = 'Insufficient data or variance for modeling.'\n",
    "        print(f\"Info: {error_msg} for {group_name_display}. Outputting counts only.\")\n",
    "        for orig_cat_val in categories_to_iterate_for_output:\n",
    "            N_cat = df_feature[df_feature[original_feature_col_name] == str(orig_cat_val)].shape[0]\n",
    "            N_worked_cat = df_feature[(df_feature[original_feature_col_name] == str(orig_cat_val)) & (df_feature[outcome_col] == 1)].shape[0]\n",
    "            perc_worked_cat = (N_worked_cat / N_cat * 100) if N_cat > 0 else np.nan\n",
    "            total_n_analysis = df_feature.shape[0]\n",
    "            total_worked_analysis = df_feature[outcome_col].sum() if total_n_analysis > 0 else 0\n",
    "            results.append({\n",
    "                'CharacteristicGroup': group_name_display, 'CharacteristicValue': str(orig_cat_val),\n",
    "                'log_OR': np.nan, 'p_value': np.nan,\n",
    "                'N_category': N_cat, 'N_worked_in_category': N_worked_cat,\n",
    "                'N_total_analysis': total_n_analysis, 'N_worked_total_analysis': total_worked_analysis,\n",
    "                'Percentage_worked_in_category': perc_worked_cat,\n",
    "                'Percentage_worked_total_analysis': (total_worked_analysis / total_n_analysis * 100) if total_n_analysis > 0 else np.nan })\n",
    "        return results\n",
    "\n",
    "    actual_sanitized_categories_in_df = df_feature[sanitized_feature_col_name].unique()\n",
    "    current_sanitized_ref = sanitized_reference_category\n",
    "    if sanitized_reference_category not in actual_sanitized_categories_in_df:\n",
    "        if df_feature[original_feature_col_name].mode().shape[0] > 0:\n",
    "            mode_original_value = df_feature[original_feature_col_name].mode()[0]\n",
    "            current_sanitized_ref = sanitize_for_patsy(mode_original_value)\n",
    "            print(f\"Warning: Sanitized reference '{sanitized_reference_category}' (from original '{original_reference_category}') not found for '{group_name_display}'. Using most frequent original value '{mode_original_value}' (sanitized: '{current_sanitized_ref}').\")\n",
    "            if current_sanitized_ref not in actual_sanitized_categories_in_df:\n",
    "                 print(f\"CRITICAL WARNING: Mode '{mode_original_value}' (sanitized: '{current_sanitized_ref}') also not in sanitized categories. Model will likely fail for {group_name_display}\")\n",
    "        else:\n",
    "            print(f\"CRITICAL: No mode available for reference for {group_name_display}. Cannot fit model reliably.\")\n",
    "            for orig_cat_val in categories_to_iterate_for_output: results.append({'CharacteristicGroup': group_name_display, 'CharacteristicValue': str(orig_cat_val), **default_cols, 'N_total_analysis': df_feature.shape[0]})\n",
    "            return results\n",
    "    sanitized_reference_category = current_sanitized_ref\n",
    "\n",
    "    if df_feature[sanitized_feature_col_name].nunique() < 2:\n",
    "        print(f\"Info: Only one unique predictor category ('{df_feature[original_feature_col_name].unique()[0]}') for {group_name_display}. Outputting counts only.\")\n",
    "        for orig_cat_val in categories_to_iterate_for_output:\n",
    "            N_cat = df_feature[df_feature[original_feature_col_name] == str(orig_cat_val)].shape[0]\n",
    "            N_worked_cat = df_feature[(df_feature[original_feature_col_name] == str(orig_cat_val)) & (df_feature[outcome_col] == 1)].shape[0]\n",
    "            perc_worked_cat = (N_worked_cat / N_cat * 100) if N_cat > 0 else np.nan\n",
    "            total_n_analysis = df_feature.shape[0]\n",
    "            total_worked_analysis = df_feature[outcome_col].sum() if total_n_analysis > 0 else 0\n",
    "            results.append({\n",
    "                'CharacteristicGroup': group_name_display, 'CharacteristicValue': str(orig_cat_val),\n",
    "                'log_OR': np.nan, 'p_value': np.nan,\n",
    "                'N_category': N_cat, 'N_worked_in_category': N_worked_cat,\n",
    "                'N_total_analysis': total_n_analysis, 'N_worked_total_analysis': total_worked_analysis,\n",
    "                'Percentage_worked_in_category': perc_worked_cat,\n",
    "                'Percentage_worked_total_analysis': (total_worked_analysis / total_n_analysis * 100) if total_n_analysis > 0 else np.nan })\n",
    "        return results\n",
    "\n",
    "    formula = f\"{outcome_col} ~ C({sanitized_feature_col_name}, Treatment(reference='{sanitized_reference_category}'))\"\n",
    "    print(f\"Attempting to fit model for {group_name_display} with formula: {formula}\")\n",
    "    try:\n",
    "        if not pd.api.types.is_numeric_dtype(df_feature[outcome_col]):\n",
    "             raise ValueError(f\"Outcome column '{outcome_col}' is not numeric for modeling.\")\n",
    "        model = smf.logit(formula, data=df_feature).fit(disp=0)\n",
    "        log_odds = model.params\n",
    "        p_values = model.pvalues\n",
    "        for orig_cat_val_iter in categories_to_iterate_for_output:\n",
    "            str_orig_cat_val = str(orig_cat_val_iter)\n",
    "            sanitized_cat_val_iter = sanitize_for_patsy(str_orig_cat_val)\n",
    "            N_cat = df_feature[df_feature[original_feature_col_name] == str_orig_cat_val].shape[0]\n",
    "            N_worked_cat = df_feature[(df_feature[original_feature_col_name] == str_orig_cat_val) & (df_feature[outcome_col] == 1)].shape[0]\n",
    "            perc_worked_cat = (N_worked_cat / N_cat * 100) if N_cat > 0 else np.nan\n",
    "            total_n_analysis = df_feature.shape[0]\n",
    "            total_worked_analysis = df_feature[outcome_col].sum()\n",
    "            current_log_or_val, current_p_value_val = np.nan, np.nan\n",
    "            if sanitized_cat_val_iter == sanitized_reference_category: pass\n",
    "            else:\n",
    "                param_name = f\"C({sanitized_feature_col_name}, Treatment(reference='{sanitized_reference_category}'))[T.{sanitized_cat_val_iter}]\"\n",
    "                current_log_or_val = log_odds.get(param_name, np.nan)\n",
    "                current_p_value_val = p_values.get(param_name, np.nan)\n",
    "            results.append({\n",
    "                'CharacteristicGroup': group_name_display, 'CharacteristicValue': str_orig_cat_val,\n",
    "                'log_OR': current_log_or_val, 'p_value': current_p_value_val,\n",
    "                'N_category': N_cat, 'N_worked_in_category': N_worked_cat,\n",
    "                'N_total_analysis': total_n_analysis, 'N_worked_total_analysis': total_worked_analysis,\n",
    "                'Percentage_worked_in_category': perc_worked_cat,\n",
    "                'Percentage_worked_total_analysis': (total_worked_analysis / total_n_analysis * 100) if total_n_analysis > 0 else np.nan })\n",
    "    except Exception as e:\n",
    "        print(f\"Error fitting model or processing results for {group_name_display} (feature: {original_feature_col_name}): {e}. Outputting counts only.\")\n",
    "        for orig_cat_val in categories_to_iterate_for_output:\n",
    "            N_cat = df_feature[df_feature[original_feature_col_name] == str(orig_cat_val)].shape[0]\n",
    "            N_worked_cat = df_feature[(df_feature[original_feature_col_name] == str(orig_cat_val)) & (df_feature[outcome_col] == 1)].shape[0]\n",
    "            perc_worked_cat = (N_worked_cat / N_cat * 100) if N_cat > 0 else np.nan\n",
    "            total_n_analysis = df_feature.shape[0]\n",
    "            total_worked_analysis = df_feature[outcome_col].sum() if total_n_analysis > 0 else 0\n",
    "            results.append({\n",
    "                'CharacteristicGroup': group_name_display, 'CharacteristicValue': str(orig_cat_val),\n",
    "                'log_OR': np.nan, 'p_value': np.nan,\n",
    "                'N_category': N_cat, 'N_worked_in_category': N_worked_cat,\n",
    "                'N_total_analysis': total_n_analysis, 'N_worked_total_analysis': total_worked_analysis,\n",
    "                'Percentage_worked_in_category': perc_worked_cat,\n",
    "                'Percentage_worked_total_analysis': (total_worked_analysis / total_n_analysis * 100) if total_n_analysis > 0 else np.nan })\n",
    "    return results\n",
    "\n",
    "# --- Main Script ---\n",
    "all_results_list = []\n",
    "outcome_variable_name = 'UserHasWorked'\n",
    "default_error_row_values = {\n",
    "    'log_OR': np.nan, 'p_value': np.nan, 'N_category': 0, 'N_worked_in_category': 0,\n",
    "    'N_total_analysis': 0, 'N_worked_total_analysis': 0,\n",
    "    'Percentage_worked_in_category': np.nan, 'Percentage_worked_total_analysis': np.nan }\n",
    "\n",
    "if 'user_id' not in dataset.columns or outcome_variable_name not in dataset.columns:\n",
    "    output_df = pd.DataFrame([{'CharacteristicGroup': 'Error', 'CharacteristicValue': f\"'user_id' or '{outcome_variable_name}' missing.\", **default_error_row_values}])\n",
    "else:\n",
    "    dataset[outcome_variable_name] = pd.to_numeric(dataset[outcome_variable_name], errors='coerce')\n",
    "    dataset.dropna(subset=[outcome_variable_name], inplace=True)\n",
    "    try:\n",
    "        dataset[outcome_variable_name] = dataset[outcome_variable_name].astype(np.int64)\n",
    "    except Exception as e_main_astype:\n",
    "        print(f\"CRITICAL ERROR in Main Script: Could not convert outcome variable '{outcome_variable_name}' to np.int64. Error: {e_main_astype}\")\n",
    "        output_df = pd.DataFrame([{'CharacteristicGroup': 'Error', 'CharacteristicValue': f\"Failed to process outcome variable '{outcome_variable_name}'.\", **default_error_row_values}])\n",
    "    \n",
    "    if 'output_df' not in locals(): # Only proceed if no critical error set output_df above\n",
    "        experience_reference_category = 'Aucune expérience'\n",
    "        all_results_list.extend(analyze_feature(dataset, outcome_variable_name, 'User Experience Group',\n",
    "                                           original_reference_category=experience_reference_category,\n",
    "                                           group_name_display='experience', all_categories_ordered=None))\n",
    "        all_results_list.extend(analyze_feature(dataset, outcome_variable_name, 'User Has Min Wage Rate',\n",
    "                                           original_reference_category=False,\n",
    "                                           group_name_display='Rate - User Has Min Wage', all_categories_ordered=None))\n",
    "        all_results_list.extend(analyze_feature(dataset, outcome_variable_name, 'User Has 15 Plus Rate',\n",
    "                                           original_reference_category=False,\n",
    "                                           group_name_display='Rate - User Has 15 Plus', all_categories_ordered=None))\n",
    "        if 'User_Gender' in dataset.columns:\n",
    "            gender_reference_category = 'F'\n",
    "            all_results_list.extend(analyze_feature(dataset, outcome_variable_name, 'User_Gender',\n",
    "                                               original_reference_category=gender_reference_category,\n",
    "                                               group_name_display='Gender', all_categories_ordered=None))\n",
    "        else:\n",
    "            print(\"Info: 'User_Gender' column not found. Skipping.\")\n",
    "            all_results_list.append({'CharacteristicGroup': 'Gender', 'CharacteristicValue': 'Column not provided', **default_error_row_values})\n",
    "        \n",
    "        language_reference = 'NATIVE FRENCH'\n",
    "        all_results_list.extend(analyze_feature(dataset, outcome_variable_name, 'User French Proficiency',\n",
    "                                           original_reference_category=language_reference,\n",
    "                                           group_name_display='Codage Langues', all_categories_ordered=None))\n",
    "        \n",
    "        if 'User Is In Paris' in dataset.columns and 'User Is In Bordeaux' in dataset.columns:\n",
    "            temp_df_city = dataset[['user_id', outcome_variable_name, 'User Is In Paris', 'User Is In Bordeaux']].copy()\n",
    "            def assign_city_group(row):\n",
    "                is_paris, is_bordeaux = False, False\n",
    "                if pd.notna(row['User Is In Paris']):\n",
    "                    if isinstance(row['User Is In Paris'], (bool, np.bool_)): is_paris = row['User Is In Paris']\n",
    "                    elif isinstance(row['User Is In Paris'], (int, float)): is_paris = bool(row['User Is In Paris'])\n",
    "                    elif isinstance(row['User Is In Paris'], str): is_paris = row['User Is In Paris'].lower() == 'true'\n",
    "                if pd.notna(row['User Is In Bordeaux']):\n",
    "                    if isinstance(row['User Is In Bordeaux'], (bool, np.bool_)): is_bordeaux = row['User Is In Bordeaux']\n",
    "                    elif isinstance(row['User Is In Bordeaux'], (int, float)): is_bordeaux = bool(row['User Is In Bordeaux'])\n",
    "                    elif isinstance(row['User Is In Bordeaux'], str): is_bordeaux = row['User Is In Bordeaux'].lower() == 'true'\n",
    "                if is_paris: return 'Paris'\n",
    "                if is_bordeaux: return 'Bordeaux'\n",
    "                return 'Other'\n",
    "            temp_df_city['City_Group_Temp'] = temp_df_city.apply(assign_city_group, axis=1)\n",
    "            df_paris_bordeaux = temp_df_city[temp_df_city['City_Group_Temp'].isin(['Paris', 'Bordeaux'])].copy()\n",
    "            if not df_paris_bordeaux.empty and df_paris_bordeaux[outcome_variable_name].notna().all():\n",
    "                 all_results_list.extend(analyze_feature(df_paris_bordeaux, outcome_variable_name, 'City_Group_Temp',\n",
    "                                               original_reference_category='Bordeaux',\n",
    "                                               group_name_display='City', all_categories_ordered=['Bordeaux', 'Paris']))\n",
    "            else:\n",
    "                print(\"Info: Not enough data for Paris/Bordeaux for City analysis or outcome variable has issues.\")\n",
    "                all_results_list.append({'CharacteristicGroup': 'City', 'CharacteristicValue': 'Paris/Bordeaux No Valid Data', **default_error_row_values})\n",
    "        else:\n",
    "            print(\"Info: City columns ('User Is In Paris', 'User Is In Bordeaux') not found.\")\n",
    "            all_results_list.append({'CharacteristicGroup': 'City', 'CharacteristicValue': 'Columns not provided', **default_error_row_values})\n",
    "\n",
    "        # Final DataFrame creation\n",
    "    if all_results_list:\n",
    "        output_df = pd.DataFrame(all_results_list)\n",
    "        cols_order = ['CharacteristicGroup', 'CharacteristicValue', 'log_OR', 'p_value',\n",
    "                      'N_category', 'N_worked_in_category', 'Percentage_worked_in_category',\n",
    "                      'N_total_analysis', 'N_worked_total_analysis', 'Percentage_worked_total_analysis']\n",
    "        # Ensure only existing columns are selected, in case some analysis failed to produce all.\n",
    "        output_df = output_df[[col for col in cols_order if col in output_df.columns]]\n",
    "\n",
    "    elif 'output_df' not in locals(): # If no critical error set output_df and list is empty\n",
    "        output_df = pd.DataFrame([{\n",
    "            'CharacteristicGroup': 'Error',\n",
    "            'CharacteristicValue': 'No results generated and no critical error caught.',\n",
    "            **default_error_row_values\n",
    "        }])\n",
    "\n",
    "if 'output_df' not in locals():\n",
    "    output_df = pd.DataFrame([{\n",
    "        'CharacteristicGroup': 'Critical Script Failure',\n",
    "        'CharacteristicValue': 'output_df was not created. Check logs.',\n",
    "        **default_error_row_values\n",
    "    }])\n",
    "\n",
    "# --- Apply float formatting ---\n",
    "# Columns for simple rounding to 5 decimal places (excluding p_value)\n",
    "float_cols_to_round = [\n",
    "    'log_OR',\n",
    "    'Percentage_worked_in_category',\n",
    "    'Percentage_worked_total_analysis'\n",
    "]\n",
    "\n",
    "for col in float_cols_to_round:\n",
    "    if col in output_df.columns:\n",
    "        # Ensure the column is numeric before rounding, coercing errors to NaN\n",
    "        output_df[col] = pd.to_numeric(output_df[col], errors='coerce')\n",
    "        output_df[col] = output_df[col].round(5)\n",
    "\n",
    "# Custom formatting for the 'p_value' column\n",
    "if 'p_value' in output_df.columns:\n",
    "    # First, ensure p_value is numeric for comparison\n",
    "    numeric_p_values = pd.to_numeric(output_df['p_value'], errors='coerce')\n",
    "\n",
    "    # Define a function to apply the custom formatting\n",
    "    def format_p_value_custom(p_val):\n",
    "        if pd.isna(p_val):\n",
    "            return \"\"  # Represent NaN as an empty string for cleaner display\n",
    "        elif p_val < 0.001:  # This includes true zeros and very small numbers\n",
    "            return \"< 0.001\"\n",
    "        else:\n",
    "            return f\"{p_val:.5f}\"  # Format other p-values to 5 decimal places as strings\n",
    "\n",
    "    # Apply the custom formatting function\n",
    "    output_df['p_value'] = numeric_p_values.apply(format_p_value_custom)\n",
    "\n",
    "# Ensure output_df is the last expression.\n",
    "output_df"
   ]
  },
  {
   "cell_type": "code",
   "execution_count": 2,
   "id": "6fda7be3",
   "metadata": {},
   "outputs": [
    {
     "data": {
      "application/vnd.plotly.v1+json": {
       "config": {
        "plotlyServerURL": "https://plot.ly"
       },
       "data": [
        {
         "cells": {
          "align": [
           "left",
           "center"
          ],
          "fill": {
           "color": [
            [
             "white",
             "lightgrey",
             "white",
             "lightgrey",
             "white",
             "white",
             "lightgrey",
             "white",
             "lightgrey",
             "white",
             "white",
             "lightgrey",
             "white",
             "lightgrey",
             "white",
             "white",
             "lightgrey",
             "white",
             "lightgrey",
             "white",
             "white",
             "lightgrey",
             "white",
             "lightgrey",
             "white"
            ]
           ]
          },
          "font": {
           "color": "darkslategray",
           "size": 11
          },
          "line": {
           "color": "darkslategray"
          },
          "values": [
           [
            "experience",
            "experience",
            "experience",
            "experience",
            "experience",
            "Rate - User Has Min Wage",
            "Rate - User Has Min Wage",
            "Rate - User Has 15 Plus",
            "Rate - User Has 15 Plus",
            "Gender",
            "Codage Langues",
            "Codage Langues",
            "Codage Langues",
            "City",
            "City"
           ],
           [
            "Aucune expérience",
            "Expérience <1",
            "Expérience >10",
            "Expérience [1-5]",
            "Expérience [5-10]",
            "False",
            "True",
            "False",
            "True",
            "Column not provided",
            "NATIVE FRENCH",
            "NON FRENCH",
            "NON NATIVE FRENCH",
            "Bordeaux",
            "Paris"
           ],
           [
            null,
            -0.54759,
            0.34266,
            0.44601,
            0.64962,
            null,
            2.80238,
            null,
            0.67847,
            null,
            null,
            -0.09453,
            0.88418,
            null,
            -0.2549
           ],
           [
            "",
            "< 0.001",
            "< 0.001",
            "< 0.001",
            "< 0.001",
            "",
            "< 0.001",
            "",
            "< 0.001",
            "",
            "",
            "0.18614",
            "< 0.001",
            "",
            "0.12468"
           ],
           [
            2234,
            7592,
            5008,
            17423,
            5330,
            961,
            36626,
            30702,
            6885,
            0,
            23971,
            4410,
            9206,
            304,
            3200
           ],
           [
            131,
            264,
            404,
            1545,
            568,
            5,
            2907,
            2058,
            854,
            0,
            1438,
            242,
            1232,
            48,
            406
           ],
           [
            5.86392,
            3.47734,
            8.06709,
            8.86759,
            10.65666,
            0.52029,
            7.93698,
            6.70315,
            12.40378,
            null,
            5.99892,
            5.48753,
            13.38258,
            15.78947,
            12.6875
           ],
           [
            37587,
            37587,
            37587,
            37587,
            37587,
            37587,
            37587,
            37587,
            37587,
            0,
            37587,
            37587,
            37587,
            3504,
            3504
           ],
           [
            2912,
            2912,
            2912,
            2912,
            2912,
            2912,
            2912,
            2912,
            2912,
            0,
            2912,
            2912,
            2912,
            454,
            454
           ],
           [
            7.74736,
            7.74736,
            7.74736,
            7.74736,
            7.74736,
            7.74736,
            7.74736,
            7.74736,
            7.74736,
            null,
            7.74736,
            7.74736,
            7.74736,
            12.95662,
            12.95662
           ]
          ]
         },
         "columnwidth": [
          1.1,
          1.1,
          0.6,
          0.6,
          0.6,
          1.2,
          1.5,
          1,
          1.2,
          1.8
         ],
         "header": {
          "align": [
           "left",
           "center"
          ],
          "fill": {
           "color": "grey"
          },
          "font": {
           "color": "white",
           "size": 12
          },
          "line": {
           "color": "darkslategray"
          },
          "values": [
           "CharacteristicGroup",
           "CharacteristicValue",
           "log_OR",
           "p_value",
           "N_category",
           "N_worked_in_category",
           "Percentage_worked_in_category",
           "N_total_analysis",
           "N_worked_total_analysis",
           "Percentage_worked_total_analysis"
          ]
         },
         "type": "table"
        }
       ],
       "layout": {
        "autosize": false,
        "height": 460,
        "margin": {
         "b": 10,
         "l": 10,
         "r": 10,
         "t": 30
        },
        "template": {
         "data": {
          "bar": [
           {
            "error_x": {
             "color": "#2a3f5f"
            },
            "error_y": {
             "color": "#2a3f5f"
            },
            "marker": {
             "line": {
              "color": "#E5ECF6",
              "width": 0.5
             },
             "pattern": {
              "fillmode": "overlay",
              "size": 10,
              "solidity": 0.2
             }
            },
            "type": "bar"
           }
          ],
          "barpolar": [
           {
            "marker": {
             "line": {
              "color": "#E5ECF6",
              "width": 0.5
             },
             "pattern": {
              "fillmode": "overlay",
              "size": 10,
              "solidity": 0.2
             }
            },
            "type": "barpolar"
           }
          ],
          "carpet": [
           {
            "aaxis": {
             "endlinecolor": "#2a3f5f",
             "gridcolor": "white",
             "linecolor": "white",
             "minorgridcolor": "white",
             "startlinecolor": "#2a3f5f"
            },
            "baxis": {
             "endlinecolor": "#2a3f5f",
             "gridcolor": "white",
             "linecolor": "white",
             "minorgridcolor": "white",
             "startlinecolor": "#2a3f5f"
            },
            "type": "carpet"
           }
          ],
          "choropleth": [
           {
            "colorbar": {
             "outlinewidth": 0,
             "ticks": ""
            },
            "type": "choropleth"
           }
          ],
          "contour": [
           {
            "colorbar": {
             "outlinewidth": 0,
             "ticks": ""
            },
            "colorscale": [
             [
              0,
              "#0d0887"
             ],
             [
              0.1111111111111111,
              "#46039f"
             ],
             [
              0.2222222222222222,
              "#7201a8"
             ],
             [
              0.3333333333333333,
              "#9c179e"
             ],
             [
              0.4444444444444444,
              "#bd3786"
             ],
             [
              0.5555555555555556,
              "#d8576b"
             ],
             [
              0.6666666666666666,
              "#ed7953"
             ],
             [
              0.7777777777777778,
              "#fb9f3a"
             ],
             [
              0.8888888888888888,
              "#fdca26"
             ],
             [
              1,
              "#f0f921"
             ]
            ],
            "type": "contour"
           }
          ],
          "contourcarpet": [
           {
            "colorbar": {
             "outlinewidth": 0,
             "ticks": ""
            },
            "type": "contourcarpet"
           }
          ],
          "heatmap": [
           {
            "colorbar": {
             "outlinewidth": 0,
             "ticks": ""
            },
            "colorscale": [
             [
              0,
              "#0d0887"
             ],
             [
              0.1111111111111111,
              "#46039f"
             ],
             [
              0.2222222222222222,
              "#7201a8"
             ],
             [
              0.3333333333333333,
              "#9c179e"
             ],
             [
              0.4444444444444444,
              "#bd3786"
             ],
             [
              0.5555555555555556,
              "#d8576b"
             ],
             [
              0.6666666666666666,
              "#ed7953"
             ],
             [
              0.7777777777777778,
              "#fb9f3a"
             ],
             [
              0.8888888888888888,
              "#fdca26"
             ],
             [
              1,
              "#f0f921"
             ]
            ],
            "type": "heatmap"
           }
          ],
          "heatmapgl": [
           {
            "colorbar": {
             "outlinewidth": 0,
             "ticks": ""
            },
            "colorscale": [
             [
              0,
              "#0d0887"
             ],
             [
              0.1111111111111111,
              "#46039f"
             ],
             [
              0.2222222222222222,
              "#7201a8"
             ],
             [
              0.3333333333333333,
              "#9c179e"
             ],
             [
              0.4444444444444444,
              "#bd3786"
             ],
             [
              0.5555555555555556,
              "#d8576b"
             ],
             [
              0.6666666666666666,
              "#ed7953"
             ],
             [
              0.7777777777777778,
              "#fb9f3a"
             ],
             [
              0.8888888888888888,
              "#fdca26"
             ],
             [
              1,
              "#f0f921"
             ]
            ],
            "type": "heatmapgl"
           }
          ],
          "histogram": [
           {
            "marker": {
             "pattern": {
              "fillmode": "overlay",
              "size": 10,
              "solidity": 0.2
             }
            },
            "type": "histogram"
           }
          ],
          "histogram2d": [
           {
            "colorbar": {
             "outlinewidth": 0,
             "ticks": ""
            },
            "colorscale": [
             [
              0,
              "#0d0887"
             ],
             [
              0.1111111111111111,
              "#46039f"
             ],
             [
              0.2222222222222222,
              "#7201a8"
             ],
             [
              0.3333333333333333,
              "#9c179e"
             ],
             [
              0.4444444444444444,
              "#bd3786"
             ],
             [
              0.5555555555555556,
              "#d8576b"
             ],
             [
              0.6666666666666666,
              "#ed7953"
             ],
             [
              0.7777777777777778,
              "#fb9f3a"
             ],
             [
              0.8888888888888888,
              "#fdca26"
             ],
             [
              1,
              "#f0f921"
             ]
            ],
            "type": "histogram2d"
           }
          ],
          "histogram2dcontour": [
           {
            "colorbar": {
             "outlinewidth": 0,
             "ticks": ""
            },
            "colorscale": [
             [
              0,
              "#0d0887"
             ],
             [
              0.1111111111111111,
              "#46039f"
             ],
             [
              0.2222222222222222,
              "#7201a8"
             ],
             [
              0.3333333333333333,
              "#9c179e"
             ],
             [
              0.4444444444444444,
              "#bd3786"
             ],
             [
              0.5555555555555556,
              "#d8576b"
             ],
             [
              0.6666666666666666,
              "#ed7953"
             ],
             [
              0.7777777777777778,
              "#fb9f3a"
             ],
             [
              0.8888888888888888,
              "#fdca26"
             ],
             [
              1,
              "#f0f921"
             ]
            ],
            "type": "histogram2dcontour"
           }
          ],
          "mesh3d": [
           {
            "colorbar": {
             "outlinewidth": 0,
             "ticks": ""
            },
            "type": "mesh3d"
           }
          ],
          "parcoords": [
           {
            "line": {
             "colorbar": {
              "outlinewidth": 0,
              "ticks": ""
             }
            },
            "type": "parcoords"
           }
          ],
          "pie": [
           {
            "automargin": true,
            "type": "pie"
           }
          ],
          "scatter": [
           {
            "fillpattern": {
             "fillmode": "overlay",
             "size": 10,
             "solidity": 0.2
            },
            "type": "scatter"
           }
          ],
          "scatter3d": [
           {
            "line": {
             "colorbar": {
              "outlinewidth": 0,
              "ticks": ""
             }
            },
            "marker": {
             "colorbar": {
              "outlinewidth": 0,
              "ticks": ""
             }
            },
            "type": "scatter3d"
           }
          ],
          "scattercarpet": [
           {
            "marker": {
             "colorbar": {
              "outlinewidth": 0,
              "ticks": ""
             }
            },
            "type": "scattercarpet"
           }
          ],
          "scattergeo": [
           {
            "marker": {
             "colorbar": {
              "outlinewidth": 0,
              "ticks": ""
             }
            },
            "type": "scattergeo"
           }
          ],
          "scattergl": [
           {
            "marker": {
             "colorbar": {
              "outlinewidth": 0,
              "ticks": ""
             }
            },
            "type": "scattergl"
           }
          ],
          "scattermapbox": [
           {
            "marker": {
             "colorbar": {
              "outlinewidth": 0,
              "ticks": ""
             }
            },
            "type": "scattermapbox"
           }
          ],
          "scatterpolar": [
           {
            "marker": {
             "colorbar": {
              "outlinewidth": 0,
              "ticks": ""
             }
            },
            "type": "scatterpolar"
           }
          ],
          "scatterpolargl": [
           {
            "marker": {
             "colorbar": {
              "outlinewidth": 0,
              "ticks": ""
             }
            },
            "type": "scatterpolargl"
           }
          ],
          "scatterternary": [
           {
            "marker": {
             "colorbar": {
              "outlinewidth": 0,
              "ticks": ""
             }
            },
            "type": "scatterternary"
           }
          ],
          "surface": [
           {
            "colorbar": {
             "outlinewidth": 0,
             "ticks": ""
            },
            "colorscale": [
             [
              0,
              "#0d0887"
             ],
             [
              0.1111111111111111,
              "#46039f"
             ],
             [
              0.2222222222222222,
              "#7201a8"
             ],
             [
              0.3333333333333333,
              "#9c179e"
             ],
             [
              0.4444444444444444,
              "#bd3786"
             ],
             [
              0.5555555555555556,
              "#d8576b"
             ],
             [
              0.6666666666666666,
              "#ed7953"
             ],
             [
              0.7777777777777778,
              "#fb9f3a"
             ],
             [
              0.8888888888888888,
              "#fdca26"
             ],
             [
              1,
              "#f0f921"
             ]
            ],
            "type": "surface"
           }
          ],
          "table": [
           {
            "cells": {
             "fill": {
              "color": "#EBF0F8"
             },
             "line": {
              "color": "white"
             }
            },
            "header": {
             "fill": {
              "color": "#C8D4E3"
             },
             "line": {
              "color": "white"
             }
            },
            "type": "table"
           }
          ]
         },
         "layout": {
          "annotationdefaults": {
           "arrowcolor": "#2a3f5f",
           "arrowhead": 0,
           "arrowwidth": 1
          },
          "autotypenumbers": "strict",
          "coloraxis": {
           "colorbar": {
            "outlinewidth": 0,
            "ticks": ""
           }
          },
          "colorscale": {
           "diverging": [
            [
             0,
             "#8e0152"
            ],
            [
             0.1,
             "#c51b7d"
            ],
            [
             0.2,
             "#de77ae"
            ],
            [
             0.3,
             "#f1b6da"
            ],
            [
             0.4,
             "#fde0ef"
            ],
            [
             0.5,
             "#f7f7f7"
            ],
            [
             0.6,
             "#e6f5d0"
            ],
            [
             0.7,
             "#b8e186"
            ],
            [
             0.8,
             "#7fbc41"
            ],
            [
             0.9,
             "#4d9221"
            ],
            [
             1,
             "#276419"
            ]
           ],
           "sequential": [
            [
             0,
             "#0d0887"
            ],
            [
             0.1111111111111111,
             "#46039f"
            ],
            [
             0.2222222222222222,
             "#7201a8"
            ],
            [
             0.3333333333333333,
             "#9c179e"
            ],
            [
             0.4444444444444444,
             "#bd3786"
            ],
            [
             0.5555555555555556,
             "#d8576b"
            ],
            [
             0.6666666666666666,
             "#ed7953"
            ],
            [
             0.7777777777777778,
             "#fb9f3a"
            ],
            [
             0.8888888888888888,
             "#fdca26"
            ],
            [
             1,
             "#f0f921"
            ]
           ],
           "sequentialminus": [
            [
             0,
             "#0d0887"
            ],
            [
             0.1111111111111111,
             "#46039f"
            ],
            [
             0.2222222222222222,
             "#7201a8"
            ],
            [
             0.3333333333333333,
             "#9c179e"
            ],
            [
             0.4444444444444444,
             "#bd3786"
            ],
            [
             0.5555555555555556,
             "#d8576b"
            ],
            [
             0.6666666666666666,
             "#ed7953"
            ],
            [
             0.7777777777777778,
             "#fb9f3a"
            ],
            [
             0.8888888888888888,
             "#fdca26"
            ],
            [
             1,
             "#f0f921"
            ]
           ]
          },
          "colorway": [
           "#636efa",
           "#EF553B",
           "#00cc96",
           "#ab63fa",
           "#FFA15A",
           "#19d3f3",
           "#FF6692",
           "#B6E880",
           "#FF97FF",
           "#FECB52"
          ],
          "font": {
           "color": "#2a3f5f"
          },
          "geo": {
           "bgcolor": "white",
           "lakecolor": "white",
           "landcolor": "#E5ECF6",
           "showlakes": true,
           "showland": true,
           "subunitcolor": "white"
          },
          "hoverlabel": {
           "align": "left"
          },
          "hovermode": "closest",
          "mapbox": {
           "style": "light"
          },
          "paper_bgcolor": "white",
          "plot_bgcolor": "#E5ECF6",
          "polar": {
           "angularaxis": {
            "gridcolor": "white",
            "linecolor": "white",
            "ticks": ""
           },
           "bgcolor": "#E5ECF6",
           "radialaxis": {
            "gridcolor": "white",
            "linecolor": "white",
            "ticks": ""
           }
          },
          "scene": {
           "xaxis": {
            "backgroundcolor": "#E5ECF6",
            "gridcolor": "white",
            "gridwidth": 2,
            "linecolor": "white",
            "showbackground": true,
            "ticks": "",
            "zerolinecolor": "white"
           },
           "yaxis": {
            "backgroundcolor": "#E5ECF6",
            "gridcolor": "white",
            "gridwidth": 2,
            "linecolor": "white",
            "showbackground": true,
            "ticks": "",
            "zerolinecolor": "white"
           },
           "zaxis": {
            "backgroundcolor": "#E5ECF6",
            "gridcolor": "white",
            "gridwidth": 2,
            "linecolor": "white",
            "showbackground": true,
            "ticks": "",
            "zerolinecolor": "white"
           }
          },
          "shapedefaults": {
           "line": {
            "color": "#2a3f5f"
           }
          },
          "ternary": {
           "aaxis": {
            "gridcolor": "white",
            "linecolor": "white",
            "ticks": ""
           },
           "baxis": {
            "gridcolor": "white",
            "linecolor": "white",
            "ticks": ""
           },
           "bgcolor": "#E5ECF6",
           "caxis": {
            "gridcolor": "white",
            "linecolor": "white",
            "ticks": ""
           }
          },
          "title": {
           "x": 0.05
          },
          "xaxis": {
           "automargin": true,
           "gridcolor": "white",
           "linecolor": "white",
           "ticks": "",
           "title": {
            "standoff": 15
           },
           "zerolinecolor": "white",
           "zerolinewidth": 2
          },
          "yaxis": {
           "automargin": true,
           "gridcolor": "white",
           "linecolor": "white",
           "ticks": "",
           "title": {
            "standoff": 15
           },
           "zerolinecolor": "white",
           "zerolinewidth": 2
          }
         }
        },
        "width": 1500
       }
      }
     },
     "metadata": {},
     "output_type": "display_data"
    }
   ],
   "source": [
    "import plotly.graph_objects as go\n",
    "\n",
    "headerColor = 'grey'\n",
    "rowEvenColor = 'lightgrey'\n",
    "rowOddColor = 'white'\n",
    "\n",
    "\n",
    "df = output_df.copy()\n",
    "\n",
    "\n",
    "desired_figure_width_pixels = 1500 \n",
    "\n",
    "fig = go.Figure(data=[go.Table(\n",
    "  columnwidth = [1.1, 1.1, 0.6, 0.6, 0.6, 1.2, 1.5, 1, 1.2, 1.8], # Specify column widths\n",
    "  header=dict(\n",
    "    values=list(df.columns),\n",
    "    line_color='darkslategray',\n",
    "    fill_color=headerColor,\n",
    "    align=['left','center'],\n",
    "    font=dict(color='white', size=12)\n",
    "  ),\n",
    "  cells=dict(\n",
    "    values=df.values.transpose(),\n",
    "    line_color='darkslategray',\n",
    "    # 2-D list of colors for alternating rows\n",
    "    fill_color = [[rowOddColor,rowEvenColor,rowOddColor, rowEvenColor,rowOddColor]*5],\n",
    "    align = ['left', 'center'],\n",
    "    font = dict(color = 'darkslategray', size = 11)\n",
    "    ))\n",
    "])\n",
    "\n",
    "fig.update_layout(\n",
    "    autosize=False, # Must be False to manually set width/height\n",
    "    width=desired_figure_width_pixels, # Set the total width of the figure\n",
    "    # Dynamic height based on content: (number_of_rows + header_row) * cell_height + some_padding\n",
    "    height=(len(df) + 1) * 25 + 60, # Example: 25px per cell, 60px for header and margins\n",
    "    margin=dict(l=10, r=10, t=30, b=10) # Optional: adjust margins\n",
    ")\n",
    "\n",
    "fig.show()"
   ]
  },
  {
   "cell_type": "code",
   "execution_count": null,
   "id": "44aab17f",
   "metadata": {},
   "outputs": [],
   "source": [
    "import plotly.io as pio  # For image export\n",
    "\n",
    "import io # For handling image bytes in memory\n",
    "\n",
    "img_bytes_variable = None # Initialize to check later if image was created\n",
    "try:\n",
    "    # Export to PNG image bytes.\n",
    "    # `scale` parameter increases resolution (e.g., scale=2 is 2x resolution).\n",
    "    # This requires the 'kaleido' package: pip install kaleido\n",
    "    img_bytes_variable = pio.to_image(fig, format='png', scale=3) # Using scale=3 for higher res\n",
    "\n",
    "    # Convert image bytes to a format Matplotlib can read\n",
    "    image_stream = io.BytesIO(img_bytes_variable)\n",
    "    img_for_plt = plt.imread(image_stream, format='png')\n",
    "\n",
    "    # Display the image using Matplotlib\n",
    "    # Adjust figsize for Matplotlib if needed, though it often scales well with imshow\n",
    "    # plt.figure(figsize=(desired_figure_width_pixels/100, ((len(df_for_plotly) + 1) * 25 + 60)/100)) # Optional: control matplotlib fig size\n",
    "    plt.imshow(img_for_plt)\n",
    "    plt.axis('off')  # Hide axis ticks and labels\n",
    "    plt.tight_layout(pad=0) # Make image use full figure area\n",
    "    # plt.show() # This is the crucial line for Power BI to pick up the Matplotlib plot\n",
    "\n",
    "except Exception as e:\n",
    "    print(f\"Error generating or displaying Plotly image: {e}\")\n",
    "    print(\"Kaleido might be missing (pip install kaleido) or another issue occurred.\")\n",
    "    # If image generation fails, Power BI should ideally pick up 'output_df' if it's the last expression\n",
    "    # Ensure 'output_df' is defined from your previous script steps.\n",
    "\n",
    "# --- Crucial part for Power BI ---\n",
    "# If image generation was successful, plt.show() will make Power BI display it.\n",
    "# If image generation failed, we want Power BI to fall back to rendering output_df.\n",
    "if img_bytes_variable is not None:\n",
    "    plt.show()\n",
    "elif 'output_df' in locals(): # Check if output_df exists from your data processing\n",
    "    print(\"Fallback: Displaying DataFrame as Power BI table.\")\n",
    "    output_df # Make output_df the last expression\n",
    "else:\n",
    "    print(\"Fallback: output_df not defined, and image generation failed.\")"
   ]
  },
  {
   "cell_type": "code",
   "execution_count": 22,
   "id": "76b926a0",
   "metadata": {},
   "outputs": [
    {
     "name": "stdout",
     "output_type": "stream",
     "text": [
      "Requirement already satisfied: kaleido in c:\\python311\\lib\\site-packages (0.2.1)Note: you may need to restart the kernel to use updated packages.\n"
     ]
    },
    {
     "name": "stderr",
     "output_type": "stream",
     "text": [
      "\n",
      "[notice] A new release of pip is available: 24.1 -> 25.1.1\n",
      "[notice] To update, run: python.exe -m pip install --upgrade pip\n"
     ]
    },
    {
     "name": "stdout",
     "output_type": "stream",
     "text": [
      "\n"
     ]
    }
   ],
   "source": [
    "%pip install kaleido"
   ]
  }
 ],
 "metadata": {
  "kernelspec": {
   "display_name": "Python 3",
   "language": "python",
   "name": "python3"
  },
  "language_info": {
   "codemirror_mode": {
    "name": "ipython",
    "version": 3
   },
   "file_extension": ".py",
   "mimetype": "text/x-python",
   "name": "python",
   "nbconvert_exporter": "python",
   "pygments_lexer": "ipython3",
   "version": "3.11.4"
  }
 },
 "nbformat": 4,
 "nbformat_minor": 5
}
